{
 "cells": [
  {
   "cell_type": "markdown",
   "id": "2e5d377d-860b-4a3c-9c04-3b66629d72c3",
   "metadata": {},
   "source": [
    "### Stacking ESA SIC & ERA5\n",
    "This notebook was used to combine the downloaded CEDA/ESA SIC data and ERA5 data into a single zarr stack. "
   ]
  },
  {
   "cell_type": "code",
   "execution_count": 2,
   "id": "08982a2b-ffde-42a4-9f4e-7113fd53e90a",
   "metadata": {
    "tags": []
   },
   "outputs": [
    {
     "name": "stderr",
     "output_type": "stream",
     "text": [
      "/Users/Zach/miniforge3/lib/python3.9/site-packages/xarray/backends/cfgrib_.py:27: UserWarning: Failed to load cfgrib - most likely there is a problem accessing the ecCodes library. Try `import cfgrib` to get the full error message\n",
      "  warnings.warn(\n"
     ]
    }
   ],
   "source": [
    "import xarray as xr\n",
    "import numpy as np\n",
    "import matplotlib.pyplot as plt\n",
    "import os \n",
    "import warnings\n",
    "import rioxarray\n",
    "import datetime\n",
    "import glob\n",
    "import zarr"
   ]
  },
  {
   "cell_type": "code",
   "execution_count": 35,
   "id": "88bb829e-ec8d-46d2-b9d5-7cb0f3d72c8f",
   "metadata": {},
   "outputs": [],
   "source": [
    "# Get daily SIC from the CEDA dataset\n",
    "sic = xr.open_zarr('CEDA_SIC.zarr')\n",
    "sic = sic.resample(time='D').mean()  # Take daily mean"
   ]
  },
  {
   "cell_type": "code",
   "execution_count": 36,
   "id": "c19634b8-f414-4da8-90fa-3b08e9ff4bb0",
   "metadata": {
    "tags": []
   },
   "outputs": [],
   "source": [
    "# Get daily ERA5 data from the NetCDF files\n",
    "fns = glob.glob('era5/*/*.nc')\n",
    "\n",
    "era5 = xr.open_mfdataset(fns)\n",
    "era5 = era5.resample(time='D').mean()\n",
    "\n",
    "# Reproject to the Lambert projection to match the CEDA dataset\n",
    "crs = '+proj=laea +lat_0=90 +lon_0=0 +x_0=0 +y_0=0 +ellps=WGS84 +units=km +no_defs +type=crs'\n",
    "era5 = era5.rio.write_crs(4326).rio.reproject(crs, nodata=np.nan)\n",
    "\n",
    "# Regrid to the grid of the CEDA dataset\n",
    "with warnings.catch_warnings():\n",
    "    warnings.simplefilter(\"ignore\")\n",
    "    era5 = era5.interp({'x':sic.x.values, 'y':sic.y.values})\n",
    "\n",
    "# Limit to available CEDA dates\n",
    "era5 = era5.sel(time=slice(min(sic.time), max(sic.time)))"
   ]
  },
  {
   "cell_type": "code",
   "execution_count": 37,
   "id": "49e79bcd-c611-4dbc-8f49-f7a038edaca2",
   "metadata": {},
   "outputs": [],
   "source": [
    "ds = sic.merge(era5).chunk({'time':30, 'x':-1, 'y':-1})\n",
    "ds = ds.rename({'ice_conc': 'ceda_sic', 'siconc': 'era5_sic'})\n",
    "ds['era5_sic'] = ds['era5_sic'] * 100"
   ]
  },
  {
   "cell_type": "code",
   "execution_count": 38,
   "id": "c2556aaf-c0eb-4db0-9cad-3d9d3fbb3494",
   "metadata": {},
   "outputs": [],
   "source": [
    "ds['era5_sic_bin'] = xr.where((np.logical_not(np.isnan(ds.era5_sic))), ds.era5_sic > 15, np.nan)\n",
    "ds['ceda_sic_bin'] = xr.where((np.logical_not(np.isnan(ds.ceda_sic))), ds.ceda_sic > 15, np.nan)"
   ]
  },
  {
   "cell_type": "code",
   "execution_count": 39,
   "id": "2b1e3936-32a7-498a-a182-9e67f970983a",
   "metadata": {},
   "outputs": [
    {
     "data": {
      "text/plain": [
       "<xarray.backends.zarr.ZarrStore at 0x2a3a3fa50>"
      ]
     },
     "execution_count": 39,
     "metadata": {},
     "output_type": "execute_result"
    }
   ],
   "source": [
    "ds.to_zarr('data_full.zarr', mode='w')"
   ]
  },
  {
   "cell_type": "markdown",
   "id": "b7481827-0c9b-46b1-8196-ba0d16e57f8c",
   "metadata": {},
   "source": [
    "#### The ESA SIC data contains a gap in 2011 between satellite launches, therefore we can stitch together sept 2011 - oct 2012"
   ]
  },
  {
   "cell_type": "code",
   "execution_count": 50,
   "id": "a08e95fc-11ad-4838-95ab-5d0e74e8eeea",
   "metadata": {},
   "outputs": [],
   "source": [
    "ds_skip_gap = xr.concat([\n",
    "    ds.sel(time=slice(None, datetime.datetime(2011, 9, 30))), \n",
    "    ds.sel(time=slice(datetime.datetime(2012, 10, 1), None))\n",
    "    ], dim='time')"
   ]
  },
  {
   "cell_type": "code",
   "execution_count": 52,
   "id": "fa5647a9-2f19-4965-a148-e758b10da141",
   "metadata": {},
   "outputs": [
    {
     "data": {
      "text/plain": [
       "[<matplotlib.lines.Line2D at 0x28c7bdee0>]"
      ]
     },
     "execution_count": 52,
     "metadata": {},
     "output_type": "execute_result"
    },
    {
     "data": {
      "image/png": "[encoded data removed]",
      "text/plain": [
       "<Figure size 432x288 with 1 Axes>"
      ]
     },
     "metadata": {
      "needs_background": "light"
     },
     "output_type": "display_data"
    }
   ],
   "source": [
    "plt.plot(ds_skip_gap.isel(x=25, y=25).ceda_sic)"
   ]
  }
 ],
 "metadata": {
  "kernelspec": {
   "display_name": "Python 3 (ipykernel)",
   "language": "python",
   "name": "python3"
  },
  "language_info": {
   "codemirror_mode": {
    "name": "ipython",
    "version": 3
   },
   "file_extension": ".py",
   "mimetype": "text/x-python",
   "name": "python",
   "nbconvert_exporter": "python",
   "pygments_lexer": "ipython3",
   "version": "3.9.7"
  }
 },
 "nbformat": 4,
 "nbformat_minor": 5
}
