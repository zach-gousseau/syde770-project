{
 "cells": [
  {
   "cell_type": "code",
   "execution_count": 1,
   "id": "88b1d244-b804-4f69-a8d6-2f2f05ff6010",
   "metadata": {},
   "outputs": [],
   "source": [
    "import geopandas as gpd\n",
    "from download_era5 import download_era5"
   ]
  },
  {
   "cell_type": "code",
   "execution_count": null,
   "id": "44d2574c-3fc7-4025-b53b-193f4d69eca0",
   "metadata": {},
   "outputs": [
    {
     "name": "stdout",
     "output_type": "stream",
     "text": [
      "2002\n",
      "1\n",
      "10m_u_component_of_wind\n",
      "Downloading file ERA5_10m_u_component_of_wind_200201.nc\n"
     ]
    },
    {
     "name": "stderr",
     "output_type": "stream",
     "text": [
      "2022-01-28 16:08:06,140 INFO Welcome to the CDS\n",
      "2022-01-28 16:08:06,141 INFO Sending request to https://cds.climate.copernicus.eu/api/v2/resources/reanalysis-era5-single-levels\n",
      "2022-01-28 16:08:06,302 INFO Request is queued\n",
      "2022-01-28 16:24:30,061 INFO Request is completed\n",
      "2022-01-28 16:24:30,111 INFO Downloading https://download-0001.copernicus-climate.eu/cache-compute-0001/cache/data3/adaptor.mars.internal-1643408575.1796165-26164-1-06de0fcf-d4eb-407d-bcb6-52737e5e9653.nc to ERA5_10m_u_component_of_wind_200201.nc (2.4M)\n",
      "2022-01-28 16:24:33,248 INFO Download rate 797.3K/s                             \n",
      "2022-01-28 16:24:33,535 INFO Welcome to the CDS\n",
      "2022-01-28 16:24:33,536 INFO Sending request to https://cds.climate.copernicus.eu/api/v2/resources/reanalysis-era5-single-levels\n"
     ]
    },
    {
     "name": "stdout",
     "output_type": "stream",
     "text": [
      "10m_v_component_of_wind\n",
      "Downloading file ERA5_10m_v_component_of_wind_200201.nc\n"
     ]
    },
    {
     "name": "stderr",
     "output_type": "stream",
     "text": [
      "2022-01-28 16:24:33,681 INFO Request is queued\n",
      "2022-01-28 16:36:56,099 INFO Request is completed\n",
      "2022-01-28 16:36:56,117 INFO Downloading https://download-0007.copernicus-climate.eu/cache-compute-0007/cache/data4/adaptor.mars.internal-1643409350.5436842-31637-2-ccc2e42b-aaa0-41d1-8f22-33cd25bb0ff4.nc to ERA5_10m_v_component_of_wind_200201.nc (2.4M)\n",
      "2022-01-28 16:36:59,488 INFO Download rate 740.6K/s                             \n",
      "2022-01-28 16:36:59,776 INFO Welcome to the CDS\n",
      "2022-01-28 16:36:59,777 INFO Sending request to https://cds.climate.copernicus.eu/api/v2/resources/reanalysis-era5-single-levels\n"
     ]
    },
    {
     "name": "stdout",
     "output_type": "stream",
     "text": [
      "2m_temperature\n",
      "Downloading file ERA5_2m_temperature_200201.nc\n"
     ]
    },
    {
     "name": "stderr",
     "output_type": "stream",
     "text": [
      "2022-01-28 16:36:59,925 INFO Request is queued\n",
      "2022-01-28 16:47:22,875 INFO Request is running\n",
      "2022-01-28 16:49:23,512 INFO Request is completed\n",
      "2022-01-28 16:49:23,521 INFO Downloading https://download-0003.copernicus-climate.eu/cache-compute-0003/cache/data1/adaptor.mars.internal-1643410045.5961888-28608-17-67270690-6f9a-4b72-bbd2-276d7fad828d.nc to ERA5_2m_temperature_200201.nc (2.4M)\n",
      "2022-01-28 16:49:27,439 INFO Download rate 636.9K/s                             \n",
      "2022-01-28 16:49:27,737 INFO Welcome to the CDS\n",
      "2022-01-28 16:49:27,739 INFO Sending request to https://cds.climate.copernicus.eu/api/v2/resources/reanalysis-era5-single-levels\n"
     ]
    },
    {
     "name": "stdout",
     "output_type": "stream",
     "text": [
      "surface_sensible_heat_flux\n",
      "Downloading file ERA5_surface_sensible_heat_flux_200201.nc\n"
     ]
    },
    {
     "name": "stderr",
     "output_type": "stream",
     "text": [
      "2022-01-28 16:49:27,893 INFO Request is queued\n",
      "2022-01-28 16:55:48,354 INFO Request is completed\n",
      "2022-01-28 16:55:48,366 INFO Downloading https://download-0015.copernicus-climate.eu/cache-compute-0015/cache/data0/adaptor.mars.internal-1643410496.6443536-11323-12-54ad2231-e950-45b2-8514-c5f06e48ee48.nc to ERA5_surface_sensible_heat_flux_200201.nc (2.4M)\n",
      "2022-01-28 16:55:51,921 INFO Download rate 702.2K/s                             \n",
      "2022-01-28 16:55:52,203 INFO Welcome to the CDS\n",
      "2022-01-28 16:55:52,205 INFO Sending request to https://cds.climate.copernicus.eu/api/v2/resources/reanalysis-era5-single-levels\n"
     ]
    },
    {
     "name": "stdout",
     "output_type": "stream",
     "text": [
      "sea_ice_cover\n",
      "Downloading file ERA5_sea_ice_cover_200201.nc\n"
     ]
    },
    {
     "name": "stderr",
     "output_type": "stream",
     "text": [
      "2022-01-28 16:55:52,350 INFO Request is queued\n",
      "2022-01-28 17:02:12,897 INFO Request is completed\n",
      "2022-01-28 17:02:12,906 INFO Downloading https://download-0015.copernicus-climate.eu/cache-compute-0015/cache/data3/adaptor.mars.internal-1643410873.282721-3507-4-ea11d0ac-ebbc-4021-995f-f861a7159488.nc to ERA5_sea_ice_cover_200201.nc (2.4M)\n",
      "2022-01-28 17:02:17,317 INFO Download rate 565.8K/s                             \n",
      "2022-01-28 17:02:17,610 INFO Welcome to the CDS\n",
      "2022-01-28 17:02:17,611 INFO Sending request to https://cds.climate.copernicus.eu/api/v2/resources/reanalysis-era5-single-levels\n"
     ]
    },
    {
     "name": "stdout",
     "output_type": "stream",
     "text": [
      "sea_surface_temperature\n",
      "Downloading file ERA5_sea_surface_temperature_200201.nc\n"
     ]
    },
    {
     "name": "stderr",
     "output_type": "stream",
     "text": [
      "2022-01-28 17:02:17,767 INFO Request is queued\n",
      "2022-01-28 17:08:38,344 INFO Request is completed\n",
      "2022-01-28 17:08:38,362 INFO Downloading https://download-0006.copernicus-climate.eu/cache-compute-0006/cache/data9/adaptor.mars.internal-1643411264.5209112-18983-15-cf4b58e2-b439-4bdc-90ea-28e908059cf8.nc to ERA5_sea_surface_temperature_200201.nc (2.4M)\n",
      "2022-01-28 17:08:43,345 INFO Download rate 501K/s                               \n",
      "2022-01-28 17:08:43,639 INFO Welcome to the CDS\n",
      "2022-01-28 17:08:43,641 INFO Sending request to https://cds.climate.copernicus.eu/api/v2/resources/reanalysis-era5-single-levels\n"
     ]
    },
    {
     "name": "stdout",
     "output_type": "stream",
     "text": [
      "2\n",
      "10m_u_component_of_wind\n",
      "Downloading file ERA5_10m_u_component_of_wind_200202.nc\n"
     ]
    },
    {
     "name": "stderr",
     "output_type": "stream",
     "text": [
      "2022-01-28 17:08:43,791 INFO Request is queued\n",
      "2022-01-28 17:15:04,295 INFO Request is completed\n",
      "2022-01-28 17:15:04,306 INFO Downloading https://download-0013.copernicus-climate.eu/cache-compute-0013/cache/data0/adaptor.mars.internal-1643411664.991069-2480-6-a1d82e9a-b437-48c5-ac87-6c4af6e7d3cc.nc to ERA5_10m_u_component_of_wind_200202.nc (2.2M)\n",
      "2022-01-28 17:15:08,597 INFO Download rate 525.4K/s                             \n",
      "2022-01-28 17:15:08,878 INFO Welcome to the CDS\n",
      "2022-01-28 17:15:08,880 INFO Sending request to https://cds.climate.copernicus.eu/api/v2/resources/reanalysis-era5-single-levels\n"
     ]
    },
    {
     "name": "stdout",
     "output_type": "stream",
     "text": [
      "10m_v_component_of_wind\n",
      "Downloading file ERA5_10m_v_component_of_wind_200202.nc\n"
     ]
    },
    {
     "name": "stderr",
     "output_type": "stream",
     "text": [
      "2022-01-28 17:15:09,023 INFO Request is queued\n",
      "2022-01-28 17:21:29,381 INFO Request is completed\n",
      "2022-01-28 17:21:29,401 INFO Downloading https://download-0010.copernicus-climate.eu/cache-compute-0010/cache/data1/adaptor.mars.internal-1643412082.1922283-28103-10-b92b1b85-e913-4128-840a-e8ecd0d7d220.nc to ERA5_10m_v_component_of_wind_200202.nc (2.2M)\n",
      "2022-01-28 17:21:33,770 INFO Download rate 516.1K/s                             \n",
      "2022-01-28 17:21:34,052 INFO Welcome to the CDS\n",
      "2022-01-28 17:21:34,053 INFO Sending request to https://cds.climate.copernicus.eu/api/v2/resources/reanalysis-era5-single-levels\n"
     ]
    },
    {
     "name": "stdout",
     "output_type": "stream",
     "text": [
      "2m_temperature\n",
      "Downloading file ERA5_2m_temperature_200202.nc\n"
     ]
    },
    {
     "name": "stderr",
     "output_type": "stream",
     "text": [
      "2022-01-28 17:21:34,221 INFO Request is queued\n",
      "2022-01-28 17:33:56,751 INFO Request is completed\n",
      "2022-01-28 17:33:56,773 INFO Downloading https://download-0009.copernicus-climate.eu/cache-compute-0009/cache/data8/adaptor.mars.internal-1643412761.050001-30920-17-8958e35c-8d02-4041-a7d8-182f858c30f6.nc to ERA5_2m_temperature_200202.nc (2.2M)\n",
      "2022-01-28 17:33:59,702 INFO Download rate 770.2K/s                             \n",
      "2022-01-28 17:34:00,008 INFO Welcome to the CDS\n",
      "2022-01-28 17:34:00,009 INFO Sending request to https://cds.climate.copernicus.eu/api/v2/resources/reanalysis-era5-single-levels\n"
     ]
    },
    {
     "name": "stdout",
     "output_type": "stream",
     "text": [
      "surface_sensible_heat_flux\n",
      "Downloading file ERA5_surface_sensible_heat_flux_200202.nc\n"
     ]
    },
    {
     "name": "stderr",
     "output_type": "stream",
     "text": [
      "2022-01-28 17:34:00,164 INFO Request is queued\n",
      "2022-01-28 17:40:20,568 INFO Request is completed\n",
      "2022-01-28 17:40:20,577 INFO Downloading https://download-0015.copernicus-climate.eu/cache-compute-0015/cache/data4/adaptor.mars.internal-1643413123.5773184-13394-11-d2f0e5ca-ea9d-46dc-872b-0735eb43378d.nc to ERA5_surface_sensible_heat_flux_200202.nc (2.2M)\n",
      "2022-01-28 17:40:25,276 INFO Download rate 479.9K/s                             \n",
      "2022-01-28 17:40:25,572 INFO Welcome to the CDS\n",
      "2022-01-28 17:40:25,574 INFO Sending request to https://cds.climate.copernicus.eu/api/v2/resources/reanalysis-era5-single-levels\n"
     ]
    },
    {
     "name": "stdout",
     "output_type": "stream",
     "text": [
      "sea_ice_cover\n",
      "Downloading file ERA5_sea_ice_cover_200202.nc\n"
     ]
    },
    {
     "name": "stderr",
     "output_type": "stream",
     "text": [
      "2022-01-28 17:40:25,721 INFO Request is queued\n",
      "2022-01-28 17:44:45,546 INFO Request is running\n",
      "2022-01-28 17:46:46,217 INFO Request is completed\n",
      "2022-01-28 17:46:46,225 INFO Downloading https://download-0009.copernicus-climate.eu/cache-compute-0009/cache/data0/adaptor.mars.internal-1643413485.6525517-23018-14-a1849377-7291-47c7-89cd-bf9e5337ddab.nc to ERA5_sea_ice_cover_200202.nc (2.2M)\n",
      "2022-01-28 17:46:51,619 INFO Download rate 417.9K/s                             \n",
      "2022-01-28 17:46:51,928 INFO Welcome to the CDS\n",
      "2022-01-28 17:46:51,929 INFO Sending request to https://cds.climate.copernicus.eu/api/v2/resources/reanalysis-era5-single-levels\n"
     ]
    },
    {
     "name": "stdout",
     "output_type": "stream",
     "text": [
      "sea_surface_temperature\n",
      "Downloading file ERA5_sea_surface_temperature_200202.nc\n"
     ]
    },
    {
     "name": "stderr",
     "output_type": "stream",
     "text": [
      "2022-01-28 17:46:52,095 INFO Request is queued\n",
      "2022-01-28 17:53:12,619 INFO Request is completed\n",
      "2022-01-28 17:53:12,638 INFO Downloading https://download-0014.copernicus-climate.eu/cache-compute-0014/cache/data7/adaptor.mars.internal-1643413915.3069298-13148-8-ec76d07d-f2f4-4bd6-8d4f-5a1a96a7e3b8.nc to ERA5_sea_surface_temperature_200202.nc (2.2M)\n",
      "2022-01-28 17:53:16,067 INFO Download rate 658.3K/s                             \n",
      "2022-01-28 17:53:16,348 INFO Welcome to the CDS\n",
      "2022-01-28 17:53:16,350 INFO Sending request to https://cds.climate.copernicus.eu/api/v2/resources/reanalysis-era5-single-levels\n"
     ]
    },
    {
     "name": "stdout",
     "output_type": "stream",
     "text": [
      "3\n",
      "10m_u_component_of_wind\n",
      "Downloading file ERA5_10m_u_component_of_wind_200203.nc\n"
     ]
    },
    {
     "name": "stderr",
     "output_type": "stream",
     "text": [
      "2022-01-28 17:53:16,497 INFO Request is queued\n",
      "2022-01-28 17:57:37,500 INFO Request is running\n",
      "2022-01-28 17:59:38,194 INFO Request is completed\n",
      "2022-01-28 17:59:38,203 INFO Downloading https://download-0003.copernicus-climate.eu/cache-compute-0003/cache/data9/adaptor.mars.internal-1643414269.1522865-25344-8-0cfd282a-4e62-4787-b546-996a583daeb0.nc to ERA5_10m_u_component_of_wind_200203.nc (2.4M)\n",
      "2022-01-28 17:59:41,247 INFO Download rate 819.9K/s                             \n",
      "2022-01-28 17:59:41,551 INFO Welcome to the CDS\n",
      "2022-01-28 17:59:41,552 INFO Sending request to https://cds.climate.copernicus.eu/api/v2/resources/reanalysis-era5-single-levels\n"
     ]
    },
    {
     "name": "stdout",
     "output_type": "stream",
     "text": [
      "10m_v_component_of_wind\n",
      "Downloading file ERA5_10m_v_component_of_wind_200203.nc\n"
     ]
    },
    {
     "name": "stderr",
     "output_type": "stream",
     "text": [
      "2022-01-28 17:59:41,704 INFO Request is queued\n",
      "2022-01-28 18:04:01,685 INFO Request is running\n",
      "2022-01-28 18:06:02,451 INFO Request is completed\n",
      "2022-01-28 18:06:02,463 INFO Downloading https://download-0002.copernicus-climate.eu/cache-compute-0002/cache/data4/adaptor.mars.internal-1643414647.9898145-5030-8-a91e59ab-b6f3-4264-86cc-541aa4426eef.nc to ERA5_10m_v_component_of_wind_200203.nc (2.4M)\n",
      "2022-01-28 18:06:05,702 INFO Download rate 771.2K/s                             \n",
      "2022-01-28 18:06:06,013 INFO Welcome to the CDS\n",
      "2022-01-28 18:06:06,015 INFO Sending request to https://cds.climate.copernicus.eu/api/v2/resources/reanalysis-era5-single-levels\n"
     ]
    },
    {
     "name": "stdout",
     "output_type": "stream",
     "text": [
      "2m_temperature\n",
      "Downloading file ERA5_2m_temperature_200203.nc\n"
     ]
    },
    {
     "name": "stderr",
     "output_type": "stream",
     "text": [
      "2022-01-28 18:06:36,191 WARNING Recovering from HTTP error [504 Gateway Time-out], attemps 0 of 5\n",
      "2022-01-28 18:06:36,196 WARNING Retrying in 120 seconds\n",
      "2022-01-28 18:08:36,220 INFO Retrying now...\n",
      "2022-01-28 18:08:36,962 INFO Request is queued\n",
      "2022-01-28 18:11:59,955 WARNING Recovering from HTTP error [500 Internal Server Error], attemps 0 of 5\n",
      "2022-01-28 18:12:00,014 WARNING Retrying in 120 seconds\n",
      "2022-01-28 18:14:00,044 INFO Retrying now...\n",
      "2022-01-28 18:14:31,027 WARNING Recovering from HTTP error [500 Internal Server Error], attemps 1 of 5\n",
      "2022-01-28 18:14:31,037 WARNING Retrying in 120 seconds\n",
      "2022-01-28 18:16:31,053 INFO Retrying now...\n",
      "2022-01-28 18:17:01,712 WARNING Recovering from HTTP error [500 Internal Server Error], attemps 2 of 5\n",
      "2022-01-28 18:17:01,717 WARNING Retrying in 120 seconds\n",
      "2022-01-28 18:19:01,732 INFO Retrying now...\n",
      "2022-01-28 18:19:32,393 WARNING Recovering from HTTP error [500 Internal Server Error], attemps 3 of 5\n",
      "2022-01-28 18:19:32,399 WARNING Retrying in 120 seconds\n",
      "2022-01-28 18:21:32,411 INFO Retrying now...\n",
      "2022-01-28 18:22:03,075 WARNING Recovering from HTTP error [500 Internal Server Error], attemps 4 of 5\n",
      "2022-01-28 18:22:03,079 WARNING Retrying in 120 seconds\n",
      "2022-01-28 18:24:03,093 INFO Retrying now...\n"
     ]
    },
    {
     "name": "stdout",
     "output_type": "stream",
     "text": [
      "'NoneType' object has no attribute 'raise_for_status'\n"
     ]
    },
    {
     "name": "stderr",
     "output_type": "stream",
     "text": [
      "2022-01-28 18:24:03,803 INFO Welcome to the CDS\n",
      "2022-01-28 18:24:03,804 INFO Sending request to https://cds.climate.copernicus.eu/api/v2/resources/reanalysis-era5-single-levels\n",
      "2022-01-28 18:24:33,970 WARNING Recovering from HTTP error [500 Internal Server Error], attemps 0 of 5\n",
      "2022-01-28 18:24:33,974 WARNING Retrying in 120 seconds\n",
      "2022-01-28 18:26:33,986 INFO Retrying now...\n",
      "2022-01-28 18:27:17,610 WARNING Recovering from HTTP error [500 Internal Server Error], attemps 1 of 5\n",
      "2022-01-28 18:27:17,614 WARNING Retrying in 120 seconds\n",
      "2022-01-28 18:29:17,678 INFO Retrying now...\n",
      "2022-01-28 18:29:48,309 WARNING Recovering from HTTP error [500 Internal Server Error], attemps 2 of 5\n",
      "2022-01-28 18:29:48,318 WARNING Retrying in 120 seconds\n",
      "2022-01-28 18:31:48,334 INFO Retrying now...\n",
      "2022-01-28 18:32:18,996 WARNING Recovering from HTTP error [500 Internal Server Error], attemps 3 of 5\n",
      "2022-01-28 18:32:18,998 WARNING Retrying in 120 seconds\n",
      "2022-01-28 18:34:19,011 INFO Retrying now...\n",
      "2022-01-28 18:34:49,672 WARNING Recovering from HTTP error [500 Internal Server Error], attemps 4 of 5\n",
      "2022-01-28 18:34:49,677 WARNING Retrying in 120 seconds\n",
      "2022-01-28 18:36:49,694 INFO Retrying now...\n"
     ]
    },
    {
     "name": "stdout",
     "output_type": "stream",
     "text": [
      "'NoneType' object has no attribute 'text'\n"
     ]
    },
    {
     "name": "stderr",
     "output_type": "stream",
     "text": [
      "2022-01-28 18:36:50,299 INFO Welcome to the CDS\n",
      "2022-01-28 18:36:50,301 INFO Sending request to https://cds.climate.copernicus.eu/api/v2/resources/reanalysis-era5-single-levels\n",
      "2022-01-28 18:37:20,469 WARNING Recovering from HTTP error [500 Internal Server Error], attemps 0 of 5\n",
      "2022-01-28 18:37:20,474 WARNING Retrying in 120 seconds\n",
      "2022-01-28 18:39:20,491 INFO Retrying now...\n",
      "2022-01-28 18:39:51,239 WARNING Recovering from HTTP error [500 Internal Server Error], attemps 1 of 5\n",
      "2022-01-28 18:39:51,243 WARNING Retrying in 120 seconds\n",
      "2022-01-28 18:41:51,265 INFO Retrying now...\n",
      "2022-01-28 18:42:21,941 WARNING Recovering from HTTP error [500 Internal Server Error], attemps 2 of 5\n",
      "2022-01-28 18:42:21,944 WARNING Retrying in 120 seconds\n",
      "2022-01-28 18:44:21,976 INFO Retrying now...\n",
      "2022-01-28 18:44:52,620 WARNING Recovering from HTTP error [500 Internal Server Error], attemps 3 of 5\n",
      "2022-01-28 18:44:52,623 WARNING Retrying in 120 seconds\n",
      "2022-01-28 18:46:52,632 INFO Retrying now...\n",
      "2022-01-28 18:47:23,285 WARNING Recovering from HTTP error [500 Internal Server Error], attemps 4 of 5\n",
      "2022-01-28 18:47:23,287 WARNING Retrying in 120 seconds\n",
      "2022-01-28 18:49:23,278 INFO Retrying now...\n"
     ]
    },
    {
     "name": "stdout",
     "output_type": "stream",
     "text": [
      "'NoneType' object has no attribute 'text'\n"
     ]
    },
    {
     "name": "stderr",
     "output_type": "stream",
     "text": [
      "2022-01-28 18:49:24,034 INFO Welcome to the CDS\n",
      "2022-01-28 18:49:24,035 INFO Sending request to https://cds.climate.copernicus.eu/api/v2/resources/reanalysis-era5-single-levels\n",
      "2022-01-28 18:49:54,262 WARNING Recovering from HTTP error [500 Internal Server Error], attemps 0 of 5\n",
      "2022-01-28 18:49:54,265 WARNING Retrying in 120 seconds\n",
      "2022-01-28 18:51:54,277 INFO Retrying now...\n",
      "2022-01-28 18:52:24,935 WARNING Recovering from HTTP error [500 Internal Server Error], attemps 1 of 5\n",
      "2022-01-28 18:52:24,938 WARNING Retrying in 120 seconds\n",
      "2022-01-28 18:54:24,948 INFO Retrying now...\n",
      "2022-01-28 18:54:55,548 WARNING Recovering from HTTP error [500 Internal Server Error], attemps 2 of 5\n",
      "2022-01-28 18:54:55,549 WARNING Retrying in 120 seconds\n",
      "2022-01-28 18:56:55,553 INFO Retrying now...\n",
      "2022-01-28 18:57:26,167 WARNING Recovering from HTTP error [500 Internal Server Error], attemps 3 of 5\n",
      "2022-01-28 18:57:26,168 WARNING Retrying in 120 seconds\n",
      "2022-01-28 18:59:26,172 INFO Retrying now...\n",
      "2022-01-28 18:59:56,799 WARNING Recovering from HTTP error [500 Internal Server Error], attemps 4 of 5\n",
      "2022-01-28 18:59:56,801 WARNING Retrying in 120 seconds\n",
      "2022-01-28 19:01:56,803 INFO Retrying now...\n"
     ]
    },
    {
     "name": "stdout",
     "output_type": "stream",
     "text": [
      "'NoneType' object has no attribute 'text'\n"
     ]
    },
    {
     "name": "stderr",
     "output_type": "stream",
     "text": [
      "2022-01-28 19:01:57,430 INFO Welcome to the CDS\n",
      "2022-01-28 19:01:57,431 INFO Sending request to https://cds.climate.copernicus.eu/api/v2/resources/reanalysis-era5-single-levels\n",
      "2022-01-28 19:02:27,605 WARNING Recovering from HTTP error [500 Internal Server Error], attemps 0 of 5\n",
      "2022-01-28 19:02:27,609 WARNING Retrying in 120 seconds\n",
      "2022-01-28 19:04:27,619 INFO Retrying now...\n",
      "2022-01-28 19:04:58,319 WARNING Recovering from HTTP error [500 Internal Server Error], attemps 1 of 5\n",
      "2022-01-28 19:04:58,322 WARNING Retrying in 120 seconds\n",
      "2022-01-28 19:06:58,347 INFO Retrying now...\n",
      "2022-01-28 19:07:29,165 WARNING Recovering from HTTP error [500 Internal Server Error], attemps 2 of 5\n",
      "2022-01-28 19:07:29,167 WARNING Retrying in 120 seconds\n",
      "2022-01-28 19:09:29,174 INFO Retrying now...\n",
      "2022-01-28 19:09:59,815 WARNING Recovering from HTTP error [500 Internal Server Error], attemps 3 of 5\n",
      "2022-01-28 19:09:59,817 WARNING Retrying in 120 seconds\n",
      "2022-01-28 19:11:59,825 INFO Retrying now...\n",
      "2022-01-28 19:12:30,397 WARNING Recovering from HTTP error [500 Internal Server Error], attemps 4 of 5\n",
      "2022-01-28 19:12:30,399 WARNING Retrying in 120 seconds\n",
      "2022-01-28 19:14:30,411 INFO Retrying now...\n"
     ]
    },
    {
     "name": "stdout",
     "output_type": "stream",
     "text": [
      "'NoneType' object has no attribute 'text'\n"
     ]
    },
    {
     "name": "stderr",
     "output_type": "stream",
     "text": [
      "2022-01-28 19:14:31,053 INFO Welcome to the CDS\n",
      "2022-01-28 19:14:31,054 INFO Sending request to https://cds.climate.copernicus.eu/api/v2/resources/reanalysis-era5-single-levels\n",
      "2022-01-28 19:15:01,204 WARNING Recovering from HTTP error [500 Internal Server Error], attemps 0 of 5\n",
      "2022-01-28 19:15:01,205 WARNING Retrying in 120 seconds\n",
      "2022-01-28 19:17:01,205 INFO Retrying now...\n",
      "2022-01-28 19:17:31,798 WARNING Recovering from HTTP error [500 Internal Server Error], attemps 1 of 5\n",
      "2022-01-28 19:17:31,803 WARNING Retrying in 120 seconds\n",
      "2022-01-28 19:19:31,817 INFO Retrying now...\n",
      "2022-01-28 19:20:02,434 WARNING Recovering from HTTP error [500 Internal Server Error], attemps 2 of 5\n",
      "2022-01-28 19:20:02,435 WARNING Retrying in 120 seconds\n",
      "2022-01-28 19:22:02,434 INFO Retrying now...\n",
      "2022-01-28 19:22:33,182 WARNING Recovering from HTTP error [500 Internal Server Error], attemps 3 of 5\n",
      "2022-01-28 19:22:33,186 WARNING Retrying in 120 seconds\n",
      "2022-01-28 19:24:33,207 INFO Retrying now...\n",
      "2022-01-28 19:25:03,896 WARNING Recovering from HTTP error [500 Internal Server Error], attemps 4 of 5\n",
      "2022-01-28 19:25:03,899 WARNING Retrying in 120 seconds\n",
      "2022-01-28 19:27:03,907 INFO Retrying now...\n"
     ]
    },
    {
     "name": "stdout",
     "output_type": "stream",
     "text": [
      "'NoneType' object has no attribute 'text'\n"
     ]
    },
    {
     "name": "stderr",
     "output_type": "stream",
     "text": [
      "2022-01-28 19:27:04,526 INFO Welcome to the CDS\n",
      "2022-01-28 19:27:04,527 INFO Sending request to https://cds.climate.copernicus.eu/api/v2/resources/reanalysis-era5-single-levels\n",
      "2022-01-28 19:27:34,666 WARNING Recovering from HTTP error [500 Internal Server Error], attemps 0 of 5\n",
      "2022-01-28 19:27:34,668 WARNING Retrying in 120 seconds\n",
      "2022-01-28 19:29:34,682 INFO Retrying now...\n",
      "2022-01-28 19:29:37,243 INFO Request is queued\n",
      "2022-01-28 19:29:45,336 INFO Request is completed\n",
      "2022-01-28 19:29:45,361 INFO Downloading https://download-0000.copernicus-climate.eu/cache-compute-0000/cache/data3/adaptor.mars.internal-1643419781.1960878-4755-14-e51bcf62-e5b1-4bf4-a522-1e5d8d4afda0.nc to ERA5_2m_temperature_200203.nc (2.4M)\n",
      "2022-01-28 19:29:59,196 INFO Download rate 180.4K/s                             \n",
      "2022-01-28 19:29:59,622 INFO Welcome to the CDS\n",
      "2022-01-28 19:29:59,624 INFO Sending request to https://cds.climate.copernicus.eu/api/v2/resources/reanalysis-era5-single-levels\n"
     ]
    },
    {
     "name": "stdout",
     "output_type": "stream",
     "text": [
      "surface_sensible_heat_flux\n",
      "Downloading file ERA5_surface_sensible_heat_flux_200203.nc\n"
     ]
    },
    {
     "name": "stderr",
     "output_type": "stream",
     "text": [
      "2022-01-28 19:29:59,812 INFO Request is queued\n",
      "2022-01-28 19:32:52,627 INFO Request is completed\n",
      "2022-01-28 19:32:52,632 INFO Downloading https://download-0006.copernicus-climate.eu/cache-compute-0006/cache/data8/adaptor.mars.internal-1643419952.3210118-30709-3-e408860d-db6a-4f31-b9a6-3060a65c88b0.nc to ERA5_surface_sensible_heat_flux_200203.nc (2.4M)\n",
      "2022-01-28 19:32:55,610 INFO Download rate 838.5K/s                             \n",
      "2022-01-28 19:32:55,899 INFO Welcome to the CDS\n",
      "2022-01-28 19:32:55,900 INFO Sending request to https://cds.climate.copernicus.eu/api/v2/resources/reanalysis-era5-single-levels\n"
     ]
    },
    {
     "name": "stdout",
     "output_type": "stream",
     "text": [
      "sea_ice_cover\n",
      "Downloading file ERA5_sea_ice_cover_200203.nc\n"
     ]
    },
    {
     "name": "stderr",
     "output_type": "stream",
     "text": [
      "2022-01-28 19:32:56,102 INFO Request is queued\n",
      "2022-01-28 19:43:17,818 INFO Request is completed\n",
      "2022-01-28 19:43:17,840 INFO Downloading https://download-0011.copernicus-climate.eu/cache-compute-0011/cache/data0/adaptor.mars.internal-1643420581.1358294-31319-18-70dc31f0-3329-4b94-99f3-37b4f2b78e99.nc to ERA5_sea_ice_cover_200203.nc (2.4M)\n",
      "2022-01-28 19:43:22,263 INFO Download rate 564.6K/s                             \n",
      "2022-01-28 19:43:22,547 INFO Welcome to the CDS\n",
      "2022-01-28 19:43:22,549 INFO Sending request to https://cds.climate.copernicus.eu/api/v2/resources/reanalysis-era5-single-levels\n"
     ]
    },
    {
     "name": "stdout",
     "output_type": "stream",
     "text": [
      "sea_surface_temperature\n",
      "Downloading file ERA5_sea_surface_temperature_200203.nc\n"
     ]
    },
    {
     "name": "stderr",
     "output_type": "stream",
     "text": [
      "2022-01-28 19:43:22,698 INFO Request is queued\n",
      "2022-01-28 19:53:45,171 INFO Request is completed\n",
      "2022-01-28 19:53:45,209 INFO Downloading https://download-0013.copernicus-climate.eu/cache-compute-0013/cache/data9/adaptor.mars.internal-1643421207.5138745-18986-1-702144c3-3d44-4a43-937d-b347bf6138cd.nc to ERA5_sea_surface_temperature_200203.nc (2.4M)\n",
      "2022-01-28 19:53:48,624 INFO Download rate 730.9K/s                             \n",
      "2022-01-28 19:53:48,941 INFO Welcome to the CDS\n",
      "2022-01-28 19:53:48,943 INFO Sending request to https://cds.climate.copernicus.eu/api/v2/resources/reanalysis-era5-single-levels\n"
     ]
    },
    {
     "name": "stdout",
     "output_type": "stream",
     "text": [
      "4\n",
      "10m_u_component_of_wind\n",
      "Downloading file ERA5_10m_u_component_of_wind_200204.nc\n"
     ]
    },
    {
     "name": "stderr",
     "output_type": "stream",
     "text": [
      "2022-01-28 19:53:49,109 INFO Request is queued\n",
      "2022-01-28 20:04:10,990 INFO Request is running\n",
      "2022-01-28 20:06:11,741 INFO Request is completed\n",
      "2022-01-28 20:06:11,794 INFO Downloading https://download-0008.copernicus-climate.eu/cache-compute-0008/cache/data0/adaptor.mars.internal-1643421864.16866-17935-1-771bda2d-3cac-4ae0-8172-c6b3ba8a99c7.nc to ERA5_10m_u_component_of_wind_200204.nc (2.4M)\n",
      "2022-01-28 20:06:15,190 INFO Download rate 711.7K/s                             \n",
      "2022-01-28 20:06:15,504 INFO Welcome to the CDS\n",
      "2022-01-28 20:06:15,505 INFO Sending request to https://cds.climate.copernicus.eu/api/v2/resources/reanalysis-era5-single-levels\n"
     ]
    },
    {
     "name": "stdout",
     "output_type": "stream",
     "text": [
      "10m_v_component_of_wind\n",
      "Downloading file ERA5_10m_v_component_of_wind_200204.nc\n"
     ]
    },
    {
     "name": "stderr",
     "output_type": "stream",
     "text": [
      "2022-01-28 20:06:15,665 INFO Request is queued\n",
      "2022-01-28 20:10:35,630 INFO Request is completed\n",
      "2022-01-28 20:10:35,645 INFO Downloading https://download-0010.copernicus-climate.eu/cache-compute-0010/cache/data7/adaptor.mars.internal-1643422233.7099383-18979-2-46f264ae-d763-48f8-8ff6-2c798182fb65.nc to ERA5_10m_v_component_of_wind_200204.nc (2.4M)\n",
      "2022-01-28 20:10:40,147 INFO Download rate 536.6K/s                             \n",
      "2022-01-28 20:10:40,436 INFO Welcome to the CDS\n",
      "2022-01-28 20:10:40,437 INFO Sending request to https://cds.climate.copernicus.eu/api/v2/resources/reanalysis-era5-single-levels\n"
     ]
    },
    {
     "name": "stdout",
     "output_type": "stream",
     "text": [
      "2m_temperature\n",
      "Downloading file ERA5_2m_temperature_200204.nc\n"
     ]
    },
    {
     "name": "stderr",
     "output_type": "stream",
     "text": [
      "2022-01-28 20:10:40,610 INFO Request is queued\n",
      "2022-01-28 20:21:02,381 INFO Request is running\n",
      "2022-01-28 20:23:03,021 INFO Request is completed\n",
      "2022-01-28 20:23:03,035 INFO Downloading https://download-0007.copernicus-climate.eu/cache-compute-0007/cache/data9/adaptor.mars.internal-1643422876.495531-2719-1-e3ed8dfe-aaa0-4f3c-8a2f-10303707ceab.nc to ERA5_2m_temperature_200204.nc (2.4M)\n",
      "2022-01-28 20:23:09,965 INFO Download rate 348.5K/s                             \n",
      "2022-01-28 20:23:10,269 INFO Welcome to the CDS\n",
      "2022-01-28 20:23:10,271 INFO Sending request to https://cds.climate.copernicus.eu/api/v2/resources/reanalysis-era5-single-levels\n"
     ]
    },
    {
     "name": "stdout",
     "output_type": "stream",
     "text": [
      "surface_sensible_heat_flux\n",
      "Downloading file ERA5_surface_sensible_heat_flux_200204.nc\n"
     ]
    },
    {
     "name": "stderr",
     "output_type": "stream",
     "text": [
      "2022-01-28 20:23:10,427 INFO Request is queued\n",
      "2022-01-28 20:29:31,021 INFO Request is completed\n",
      "2022-01-28 20:29:31,061 INFO Downloading https://download-0012.copernicus-climate.eu/cache-compute-0012/cache/data1/adaptor.mars.internal-1643423337.2550743-9784-3-fff49cc3-afb2-43ca-8237-ba532997d488.nc to ERA5_surface_sensible_heat_flux_200204.nc (2.4M)\n",
      "2022-01-28 20:29:34,764 INFO Download rate 653K/s                               \n",
      "2022-01-28 20:29:35,080 INFO Welcome to the CDS\n",
      "2022-01-28 20:29:35,082 INFO Sending request to https://cds.climate.copernicus.eu/api/v2/resources/reanalysis-era5-single-levels\n"
     ]
    },
    {
     "name": "stdout",
     "output_type": "stream",
     "text": [
      "sea_ice_cover\n",
      "Downloading file ERA5_sea_ice_cover_200204.nc\n"
     ]
    },
    {
     "name": "stderr",
     "output_type": "stream",
     "text": [
      "2022-01-28 20:29:35,241 INFO Request is queued\n",
      "2022-01-28 20:35:55,804 INFO Request is completed\n",
      "2022-01-28 20:35:55,817 INFO Downloading https://download-0009.copernicus-climate.eu/cache-compute-0009/cache/data6/adaptor.mars.internal-1643423731.125097-9116-16-ceb0d857-f507-4c87-89ef-c006883a716e.nc to ERA5_sea_ice_cover_200204.nc (2.4M)\n",
      "2022-01-28 20:36:03,893 INFO Download rate 299.1K/s                             \n",
      "2022-01-28 20:36:04,195 INFO Welcome to the CDS\n",
      "2022-01-28 20:36:04,197 INFO Sending request to https://cds.climate.copernicus.eu/api/v2/resources/reanalysis-era5-single-levels\n"
     ]
    },
    {
     "name": "stdout",
     "output_type": "stream",
     "text": [
      "sea_surface_temperature\n",
      "Downloading file ERA5_sea_surface_temperature_200204.nc\n"
     ]
    },
    {
     "name": "stderr",
     "output_type": "stream",
     "text": [
      "2022-01-28 20:36:04,354 INFO Request is queued\n",
      "2022-01-28 20:40:24,383 INFO Request is running\n",
      "2022-01-28 20:42:25,059 INFO Request is completed\n",
      "2022-01-28 20:42:25,090 INFO Downloading https://download-0013.copernicus-climate.eu/cache-compute-0013/cache/data0/adaptor.mars.internal-1643424026.0101929-1681-4-82774812-1475-4dda-9c2d-49f7530e5fdf.nc to ERA5_sea_surface_temperature_200204.nc (2.4M)\n",
      "2022-01-28 20:42:28,428 INFO Download rate 726.6K/s                             \n",
      "2022-01-28 20:42:28,750 INFO Welcome to the CDS\n",
      "2022-01-28 20:42:28,751 INFO Sending request to https://cds.climate.copernicus.eu/api/v2/resources/reanalysis-era5-single-levels\n"
     ]
    },
    {
     "name": "stdout",
     "output_type": "stream",
     "text": [
      "5\n",
      "10m_u_component_of_wind\n",
      "Downloading file ERA5_10m_u_component_of_wind_200205.nc\n"
     ]
    },
    {
     "name": "stderr",
     "output_type": "stream",
     "text": [
      "2022-01-28 20:42:28,893 INFO Request is queued\n",
      "2022-01-28 20:46:49,271 INFO Request is completed\n",
      "2022-01-28 20:46:49,311 INFO Downloading https://download-0008.copernicus-climate.eu/cache-compute-0008/cache/data1/adaptor.mars.internal-1643424374.248536-15362-18-bfd19281-1735-45f1-8539-43c72dbf3121.nc to ERA5_10m_u_component_of_wind_200205.nc (2.4M)\n",
      "2022-01-28 20:46:52,115 INFO Download rate 891.4K/s                             \n",
      "2022-01-28 20:46:52,409 INFO Welcome to the CDS\n",
      "2022-01-28 20:46:52,410 INFO Sending request to https://cds.climate.copernicus.eu/api/v2/resources/reanalysis-era5-single-levels\n"
     ]
    },
    {
     "name": "stdout",
     "output_type": "stream",
     "text": [
      "10m_v_component_of_wind\n",
      "Downloading file ERA5_10m_v_component_of_wind_200205.nc\n"
     ]
    },
    {
     "name": "stderr",
     "output_type": "stream",
     "text": [
      "2022-01-28 20:46:52,573 INFO Request is queued\n",
      "2022-01-28 20:57:14,926 INFO Request is completed\n",
      "2022-01-28 20:57:14,955 INFO Downloading https://download-0010.copernicus-climate.eu/cache-compute-0010/cache/data1/adaptor.mars.internal-1643424975.5536795-1919-5-ad0274e9-6ba2-491b-9144-68baa845be1b.nc to ERA5_10m_v_component_of_wind_200205.nc (2.4M)\n",
      "2022-01-28 20:57:18,299 INFO Download rate 746.6K/s                             \n",
      "2022-01-28 20:57:18,599 INFO Welcome to the CDS\n",
      "2022-01-28 20:57:18,601 INFO Sending request to https://cds.climate.copernicus.eu/api/v2/resources/reanalysis-era5-single-levels\n"
     ]
    },
    {
     "name": "stdout",
     "output_type": "stream",
     "text": [
      "2m_temperature\n",
      "Downloading file ERA5_2m_temperature_200205.nc\n"
     ]
    },
    {
     "name": "stderr",
     "output_type": "stream",
     "text": [
      "2022-01-28 20:57:18,813 INFO Request is queued\n",
      "2022-01-28 21:01:38,952 INFO Request is running\n",
      "2022-01-28 21:03:39,535 INFO Request is completed\n",
      "2022-01-28 21:03:39,545 INFO Downloading https://download-0001.copernicus-climate.eu/cache-compute-0001/cache/data6/adaptor.mars.internal-1643425318.8042247-6294-6-c0fd7f70-dcb9-4e14-9b24-c542f6e67c59.nc to ERA5_2m_temperature_200205.nc (2.4M)\n",
      "2022-01-28 21:03:43,468 INFO Download rate 637.2K/s                             \n",
      "2022-01-28 21:03:43,758 INFO Welcome to the CDS\n",
      "2022-01-28 21:03:43,760 INFO Sending request to https://cds.climate.copernicus.eu/api/v2/resources/reanalysis-era5-single-levels\n"
     ]
    },
    {
     "name": "stdout",
     "output_type": "stream",
     "text": [
      "surface_sensible_heat_flux\n",
      "Downloading file ERA5_surface_sensible_heat_flux_200205.nc\n"
     ]
    },
    {
     "name": "stderr",
     "output_type": "stream",
     "text": [
      "2022-01-28 21:03:43,916 INFO Request is queued\n",
      "2022-01-28 21:10:04,464 INFO Request is completed\n",
      "2022-01-28 21:10:04,481 INFO Downloading https://download-0008.copernicus-climate.eu/cache-compute-0008/cache/data1/adaptor.mars.internal-1643425744.232634-9169-8-bf94d51c-0d76-4304-a962-c5499f974f34.nc to ERA5_surface_sensible_heat_flux_200205.nc (2.4M)\n",
      "2022-01-28 21:10:08,110 INFO Download rate 687.6K/s                             \n",
      "2022-01-28 21:10:08,387 INFO Welcome to the CDS\n",
      "2022-01-28 21:10:08,387 INFO Sending request to https://cds.climate.copernicus.eu/api/v2/resources/reanalysis-era5-single-levels\n"
     ]
    },
    {
     "name": "stdout",
     "output_type": "stream",
     "text": [
      "sea_ice_cover\n",
      "Downloading file ERA5_sea_ice_cover_200205.nc\n"
     ]
    },
    {
     "name": "stderr",
     "output_type": "stream",
     "text": [
      "2022-01-28 21:10:08,543 INFO Request is queued\n",
      "2022-01-28 21:16:35,406 INFO Request is completed\n",
      "2022-01-28 21:16:35,421 INFO Downloading https://download-0003.copernicus-climate.eu/cache-compute-0003/cache/data9/adaptor.mars.internal-1643426117.9359288-17746-14-910eaaf0-5ec2-461d-8688-5338c2bdbfc3.nc to ERA5_sea_ice_cover_200205.nc (2.4M)\n",
      "2022-01-28 21:16:39,461 INFO Download rate 617.9K/s                             \n",
      "2022-01-28 21:16:39,740 INFO Welcome to the CDS\n",
      "2022-01-28 21:16:39,741 INFO Sending request to https://cds.climate.copernicus.eu/api/v2/resources/reanalysis-era5-single-levels\n"
     ]
    },
    {
     "name": "stdout",
     "output_type": "stream",
     "text": [
      "sea_surface_temperature\n",
      "Downloading file ERA5_sea_surface_temperature_200205.nc\n"
     ]
    },
    {
     "name": "stderr",
     "output_type": "stream",
     "text": [
      "2022-01-28 21:16:39,890 INFO Request is queued\n",
      "2022-01-28 21:21:00,647 INFO Request is completed\n",
      "2022-01-28 21:21:00,718 INFO Downloading https://download-0012.copernicus-climate.eu/cache-compute-0012/cache/data1/adaptor.mars.internal-1643426451.0070257-26113-7-c2a7a5d0-3a16-4e99-aaa6-9010607bc855.nc to ERA5_sea_surface_temperature_200205.nc (2.4M)\n",
      "2022-01-28 21:21:03,362 INFO Download rate 944.4K/s                             \n",
      "2022-01-28 21:21:03,678 INFO Welcome to the CDS\n",
      "2022-01-28 21:21:03,679 INFO Sending request to https://cds.climate.copernicus.eu/api/v2/resources/reanalysis-era5-single-levels\n"
     ]
    },
    {
     "name": "stdout",
     "output_type": "stream",
     "text": [
      "6\n",
      "10m_u_component_of_wind\n",
      "Downloading file ERA5_10m_u_component_of_wind_200206.nc\n"
     ]
    },
    {
     "name": "stderr",
     "output_type": "stream",
     "text": [
      "2022-01-28 21:21:03,851 INFO Request is queued\n",
      "2022-01-28 21:25:24,492 INFO Request is completed\n",
      "2022-01-28 21:25:24,520 INFO Downloading https://download-0003.copernicus-climate.eu/cache-compute-0003/cache/data9/adaptor.mars.internal-1643426665.2052126-28535-14-218908d8-8b98-4e97-9b5a-cab0ea88490f.nc to ERA5_10m_u_component_of_wind_200206.nc (2.4M)\n",
      "2022-01-28 21:25:28,210 INFO Download rate 654.9K/s                             \n",
      "2022-01-28 21:25:28,516 INFO Welcome to the CDS\n",
      "2022-01-28 21:25:28,516 INFO Sending request to https://cds.climate.copernicus.eu/api/v2/resources/reanalysis-era5-single-levels\n"
     ]
    },
    {
     "name": "stdout",
     "output_type": "stream",
     "text": [
      "10m_v_component_of_wind\n",
      "Downloading file ERA5_10m_v_component_of_wind_200206.nc\n"
     ]
    },
    {
     "name": "stderr",
     "output_type": "stream",
     "text": [
      "2022-01-28 21:25:28,688 INFO Request is queued\n",
      "2022-01-28 21:28:23,099 INFO Request is running\n",
      "2022-01-28 21:29:50,530 INFO Request is completed\n",
      "2022-01-28 21:29:50,539 INFO Downloading https://download-0012.copernicus-climate.eu/cache-compute-0012/cache/data1/adaptor.mars.internal-1643426911.510242-6746-3-73238a36-9907-42dd-880d-b24454499920.nc to ERA5_10m_v_component_of_wind_200206.nc (2.4M)\n",
      "2022-01-28 21:29:53,513 INFO Download rate 812.1K/s                             \n",
      "2022-01-28 21:29:53,805 INFO Welcome to the CDS\n",
      "2022-01-28 21:29:53,807 INFO Sending request to https://cds.climate.copernicus.eu/api/v2/resources/reanalysis-era5-single-levels\n"
     ]
    },
    {
     "name": "stdout",
     "output_type": "stream",
     "text": [
      "2m_temperature\n",
      "Downloading file ERA5_2m_temperature_200206.nc\n"
     ]
    },
    {
     "name": "stderr",
     "output_type": "stream",
     "text": [
      "2022-01-28 21:29:53,950 INFO Request is queued\n",
      "2022-01-28 21:32:56,129 WARNING Recovering from connection error [('Connection aborted.', RemoteDisconnected('Remote end closed connection without response'))], attemps 0 of 5\n",
      "2022-01-28 21:32:56,166 WARNING Retrying in 120 seconds\n",
      "2022-01-28 21:34:56,189 INFO Retrying now...\n",
      "2022-01-28 21:35:04,296 INFO Request is completed\n",
      "2022-01-28 21:35:04,336 INFO Downloading https://download-0009.copernicus-climate.eu/cache-compute-0009/cache/data9/adaptor.mars.internal-1643427170.1966546-11087-19-1dd6cf22-6ebd-4ad2-abf4-0c2e019f2ef8.nc to ERA5_2m_temperature_200206.nc (2.4M)\n",
      "2022-01-28 21:35:15,974 INFO Download rate 207.6K/s                             \n"
     ]
    },
    {
     "name": "stdout",
     "output_type": "stream",
     "text": [
      "surface_sensible_heat_flux\n",
      "Downloading file ERA5_surface_sensible_heat_flux_200206.nc\n"
     ]
    },
    {
     "name": "stderr",
     "output_type": "stream",
     "text": [
      "2022-01-28 21:35:16,662 INFO Welcome to the CDS\n",
      "2022-01-28 21:35:16,664 INFO Sending request to https://cds.climate.copernicus.eu/api/v2/resources/reanalysis-era5-single-levels\n",
      "2022-01-28 21:35:17,389 INFO Request is queued\n",
      "2022-01-28 21:38:23,313 WARNING Recovering from connection error [('Connection aborted.', RemoteDisconnected('Remote end closed connection without response'))], attemps 0 of 5\n",
      "2022-01-28 21:38:23,410 WARNING Retrying in 120 seconds\n",
      "2022-01-28 21:40:23,429 INFO Retrying now...\n",
      "2022-01-28 21:40:24,152 INFO Request is completed\n",
      "2022-01-28 21:40:24,158 INFO Downloading https://download-0000.copernicus-climate.eu/cache-compute-0000/cache/data5/adaptor.mars.internal-1643427527.8390293-15176-1-52fa65c9-4410-4dca-9389-0bf117a313ce.nc to ERA5_surface_sensible_heat_flux_200206.nc (2.4M)\n",
      "2022-01-28 21:40:28,057 INFO Download rate 619.5K/s                             \n",
      "2022-01-28 21:40:28,230 INFO Welcome to the CDS\n",
      "2022-01-28 21:40:28,230 INFO Sending request to https://cds.climate.copernicus.eu/api/v2/resources/reanalysis-era5-single-levels\n"
     ]
    },
    {
     "name": "stdout",
     "output_type": "stream",
     "text": [
      "sea_ice_cover\n",
      "Downloading file ERA5_sea_ice_cover_200206.nc\n"
     ]
    },
    {
     "name": "stderr",
     "output_type": "stream",
     "text": [
      "2022-01-28 21:40:28,383 INFO Request is queued\n",
      "2022-01-28 21:44:49,164 INFO Request is completed\n",
      "2022-01-28 21:44:49,180 INFO Downloading https://download-0004.copernicus-climate.eu/cache-compute-0004/cache/data4/adaptor.mars.internal-1643427882.3730936-19174-1-76e71d46-86c9-4e01-87f7-26d07f69be79.nc to ERA5_sea_ice_cover_200206.nc (2.4M)\n",
      "2022-01-28 21:44:51,745 INFO Download rate 944.5K/s                             \n",
      "2022-01-28 21:44:52,069 INFO Welcome to the CDS\n",
      "2022-01-28 21:44:52,069 INFO Sending request to https://cds.climate.copernicus.eu/api/v2/resources/reanalysis-era5-single-levels\n"
     ]
    },
    {
     "name": "stdout",
     "output_type": "stream",
     "text": [
      "sea_surface_temperature\n",
      "Downloading file ERA5_sea_surface_temperature_200206.nc\n"
     ]
    },
    {
     "name": "stderr",
     "output_type": "stream",
     "text": [
      "2022-01-28 21:44:52,220 INFO Request is queued\n",
      "2022-01-28 21:53:13,953 INFO Request is completed\n",
      "2022-01-28 21:53:13,982 INFO Downloading https://download-0008.copernicus-climate.eu/cache-compute-0008/cache/data1/adaptor.mars.internal-1643428352.6483953-26734-8-94ebb023-a9fc-487c-b4c9-1f0cee77ad7b.nc to ERA5_sea_surface_temperature_200206.nc (2.4M)\n",
      "2022-01-28 21:53:19,555 INFO Download rate 433.4K/s                             \n",
      "2022-01-28 21:53:19,856 INFO Welcome to the CDS\n",
      "2022-01-28 21:53:19,857 INFO Sending request to https://cds.climate.copernicus.eu/api/v2/resources/reanalysis-era5-single-levels\n"
     ]
    },
    {
     "name": "stdout",
     "output_type": "stream",
     "text": [
      "7\n",
      "10m_u_component_of_wind\n",
      "Downloading file ERA5_10m_u_component_of_wind_200207.nc\n"
     ]
    },
    {
     "name": "stderr",
     "output_type": "stream",
     "text": [
      "2022-01-28 21:53:20,016 INFO Request is queued\n",
      "2022-01-28 21:56:12,786 INFO Request is completed\n",
      "2022-01-28 21:56:12,806 INFO Downloading https://download-0006.copernicus-climate.eu/cache-compute-0006/cache/data9/adaptor.mars.internal-1643428542.2453275-31950-14-36ab4859-c6e9-4977-9f52-d27614079821.nc to ERA5_10m_u_component_of_wind_200207.nc (2.4M)\n",
      "2022-01-28 21:56:16,275 INFO Download rate 719.5K/s                             \n",
      "2022-01-28 21:56:16,593 INFO Welcome to the CDS\n",
      "2022-01-28 21:56:16,594 INFO Sending request to https://cds.climate.copernicus.eu/api/v2/resources/reanalysis-era5-single-levels\n"
     ]
    },
    {
     "name": "stdout",
     "output_type": "stream",
     "text": [
      "10m_v_component_of_wind\n",
      "Downloading file ERA5_10m_v_component_of_wind_200207.nc\n"
     ]
    },
    {
     "name": "stderr",
     "output_type": "stream",
     "text": [
      "2022-01-28 21:56:16,750 INFO Request is queued\n",
      "2022-01-28 21:58:11,763 INFO Request is running\n",
      "2022-01-28 21:59:09,629 INFO Request is completed\n",
      "2022-01-28 21:59:09,633 INFO Downloading https://download-0005.copernicus-climate.eu/cache-compute-0005/cache/data4/adaptor.mars.internal-1643428707.9426847-1124-4-21513388-8924-4ca9-9a65-2d4d2fa385b8.nc to ERA5_10m_v_component_of_wind_200207.nc (2.4M)\n",
      "2022-01-28 21:59:12,642 INFO Download rate 829.5K/s                             \n",
      "2022-01-28 21:59:12,947 INFO Welcome to the CDS\n",
      "2022-01-28 21:59:12,948 INFO Sending request to https://cds.climate.copernicus.eu/api/v2/resources/reanalysis-era5-single-levels\n"
     ]
    },
    {
     "name": "stdout",
     "output_type": "stream",
     "text": [
      "2m_temperature\n",
      "Downloading file ERA5_2m_temperature_200207.nc\n"
     ]
    },
    {
     "name": "stderr",
     "output_type": "stream",
     "text": [
      "2022-01-28 21:59:13,120 INFO Request is queued\n",
      "2022-01-28 22:02:06,694 INFO Request is running\n",
      "2022-01-28 22:03:34,306 INFO Request is completed\n",
      "2022-01-28 22:03:34,323 INFO Downloading https://download-0000.copernicus-climate.eu/cache-compute-0000/cache/data9/adaptor.mars.internal-1643428928.394974-32471-15-38546e56-e5bc-4f8c-a671-c452b5a7c10b.nc to ERA5_2m_temperature_200207.nc (2.4M)\n",
      "2022-01-28 22:03:37,171 INFO Download rate 876.6K/s                             \n",
      "2022-01-28 22:03:37,477 INFO Welcome to the CDS\n",
      "2022-01-28 22:03:37,477 INFO Sending request to https://cds.climate.copernicus.eu/api/v2/resources/reanalysis-era5-single-levels\n"
     ]
    },
    {
     "name": "stdout",
     "output_type": "stream",
     "text": [
      "surface_sensible_heat_flux\n",
      "Downloading file ERA5_surface_sensible_heat_flux_200207.nc\n"
     ]
    },
    {
     "name": "stderr",
     "output_type": "stream",
     "text": [
      "2022-01-28 22:03:37,642 INFO Request is queued\n",
      "2022-01-28 22:06:30,908 INFO Request is running\n",
      "2022-01-28 22:07:58,235 INFO Request is completed\n",
      "2022-01-28 22:07:58,249 INFO Downloading https://download-0004.copernicus-climate.eu/cache-compute-0004/cache/data1/adaptor.mars.internal-1643429202.7567437-19174-9-c71e3c14-f131-4ac5-aa7b-8a88bf78dee7.nc to ERA5_surface_sensible_heat_flux_200207.nc (2.4M)\n",
      "2022-01-28 22:08:02,844 INFO Download rate 543.9K/s                             \n",
      "2022-01-28 22:08:03,181 INFO Welcome to the CDS\n",
      "2022-01-28 22:08:03,182 INFO Sending request to https://cds.climate.copernicus.eu/api/v2/resources/reanalysis-era5-single-levels\n"
     ]
    },
    {
     "name": "stdout",
     "output_type": "stream",
     "text": [
      "sea_ice_cover\n",
      "Downloading file ERA5_sea_ice_cover_200207.nc\n"
     ]
    },
    {
     "name": "stderr",
     "output_type": "stream",
     "text": [
      "2022-01-28 22:08:03,337 INFO Request is queued\n",
      "2022-01-28 22:10:56,364 INFO Request is running\n",
      "2022-01-28 22:12:23,907 INFO Request is completed\n",
      "2022-01-28 22:12:23,993 INFO Downloading https://download-0013.copernicus-climate.eu/cache-compute-0013/cache/data8/adaptor.mars.internal-1643429462.5516322-14910-8-de52872f-35c6-408d-851d-679ec227ff64.nc to ERA5_sea_ice_cover_200207.nc (2.4M)\n",
      "2022-01-28 22:12:28,399 INFO Download rate 566.4K/s                             \n",
      "2022-01-28 22:12:28,702 INFO Welcome to the CDS\n",
      "2022-01-28 22:12:28,703 INFO Sending request to https://cds.climate.copernicus.eu/api/v2/resources/reanalysis-era5-single-levels\n"
     ]
    },
    {
     "name": "stdout",
     "output_type": "stream",
     "text": [
      "sea_surface_temperature\n",
      "Downloading file ERA5_sea_surface_temperature_200207.nc\n"
     ]
    },
    {
     "name": "stderr",
     "output_type": "stream",
     "text": [
      "2022-01-28 22:12:28,854 INFO Request is queued\n",
      "2022-01-28 22:14:24,009 INFO Request is completed\n",
      "2022-01-28 22:14:24,057 INFO Downloading https://download-0000.copernicus-climate.eu/cache-compute-0000/cache/data8/adaptor.mars.internal-1643429662.1449702-29437-2-d0eb6f44-cae0-4955-88b4-7be56a9806d2.nc to ERA5_sea_surface_temperature_200207.nc (2.4M)\n",
      "2022-01-28 22:14:27,657 INFO Download rate 693.6K/s                             \n",
      "2022-01-28 22:14:27,962 INFO Welcome to the CDS\n",
      "2022-01-28 22:14:27,964 INFO Sending request to https://cds.climate.copernicus.eu/api/v2/resources/reanalysis-era5-single-levels\n"
     ]
    },
    {
     "name": "stdout",
     "output_type": "stream",
     "text": [
      "8\n",
      "10m_u_component_of_wind\n",
      "Downloading file ERA5_10m_u_component_of_wind_200208.nc\n"
     ]
    },
    {
     "name": "stderr",
     "output_type": "stream",
     "text": [
      "2022-01-28 22:14:28,116 INFO Request is queued\n",
      "2022-01-28 22:20:48,930 INFO Request is running\n",
      "2022-01-28 22:22:49,665 INFO Request is completed\n",
      "2022-01-28 22:22:49,675 INFO Downloading https://download-0004.copernicus-climate.eu/cache-compute-0004/cache/data1/adaptor.mars.internal-1643430053.1524568-660-4-0fc2db33-638a-421f-8b17-d619f87d195c.nc to ERA5_10m_u_component_of_wind_200208.nc (2.4M)\n",
      "2022-01-28 22:22:53,010 INFO Download rate 748.5K/s                             \n"
     ]
    },
    {
     "name": "stdout",
     "output_type": "stream",
     "text": [
      "10m_v_component_of_wind\n",
      "Downloading file ERA5_10m_v_component_of_wind_200208.nc\n"
     ]
    },
    {
     "name": "stderr",
     "output_type": "stream",
     "text": [
      "2022-01-28 22:22:53,380 INFO Welcome to the CDS\n",
      "2022-01-28 22:22:53,380 INFO Sending request to https://cds.climate.copernicus.eu/api/v2/resources/reanalysis-era5-single-levels\n",
      "2022-01-28 22:22:53,535 INFO Request is queued\n",
      "2022-01-28 22:24:48,676 INFO Request is running\n",
      "2022-01-28 22:25:46,552 INFO Request is completed\n",
      "2022-01-28 22:25:46,564 INFO Downloading https://download-0003.copernicus-climate.eu/cache-compute-0003/cache/data6/adaptor.mars.internal-1643430294.6969006-29523-4-b178f275-0b00-4aa4-824e-dd1562ff0d75.nc to ERA5_10m_v_component_of_wind_200208.nc (2.4M)\n",
      "2022-01-28 22:25:51,639 INFO Download rate 492.1K/s                             \n",
      "2022-01-28 22:25:51,960 INFO Welcome to the CDS\n",
      "2022-01-28 22:25:51,961 INFO Sending request to https://cds.climate.copernicus.eu/api/v2/resources/reanalysis-era5-single-levels\n"
     ]
    },
    {
     "name": "stdout",
     "output_type": "stream",
     "text": [
      "2m_temperature\n",
      "Downloading file ERA5_2m_temperature_200208.nc\n"
     ]
    },
    {
     "name": "stderr",
     "output_type": "stream",
     "text": [
      "2022-01-28 22:25:52,116 INFO Request is queued\n",
      "2022-01-28 22:28:45,028 INFO Request is completed\n",
      "2022-01-28 22:28:45,048 INFO Downloading https://download-0000.copernicus-climate.eu/cache-compute-0000/cache/data9/adaptor.mars.internal-1643430511.0189273-25796-11-6a65e415-3a6d-4931-b32f-5f5ba0ae411e.nc to ERA5_2m_temperature_200208.nc (2.4M)\n",
      "2022-01-28 22:28:49,126 INFO Download rate 612.3K/s                             \n",
      "2022-01-28 22:28:49,422 INFO Welcome to the CDS\n",
      "2022-01-28 22:28:49,423 INFO Sending request to https://cds.climate.copernicus.eu/api/v2/resources/reanalysis-era5-single-levels\n"
     ]
    },
    {
     "name": "stdout",
     "output_type": "stream",
     "text": [
      "surface_sensible_heat_flux\n",
      "Downloading file ERA5_surface_sensible_heat_flux_200208.nc\n"
     ]
    },
    {
     "name": "stderr",
     "output_type": "stream",
     "text": [
      "2022-01-28 22:28:49,581 INFO Request is queued\n",
      "2022-01-28 22:35:10,022 INFO Request is completed\n",
      "2022-01-28 22:35:10,036 INFO Downloading https://download-0015.copernicus-climate.eu/cache-compute-0015/cache/data6/adaptor.mars.internal-1643430907.2914119-11155-8-f28b9f81-7436-4281-99c5-de0fc79262e0.nc to ERA5_surface_sensible_heat_flux_200208.nc (2.4M)\n",
      "2022-01-28 22:35:13,568 INFO Download rate 707K/s                               \n",
      "2022-01-28 22:35:13,861 INFO Welcome to the CDS\n",
      "2022-01-28 22:35:13,862 INFO Sending request to https://cds.climate.copernicus.eu/api/v2/resources/reanalysis-era5-single-levels\n"
     ]
    },
    {
     "name": "stdout",
     "output_type": "stream",
     "text": [
      "sea_ice_cover\n",
      "Downloading file ERA5_sea_ice_cover_200208.nc\n"
     ]
    },
    {
     "name": "stderr",
     "output_type": "stream",
     "text": [
      "2022-01-28 22:35:14,021 INFO Request is queued\n",
      "2022-01-28 22:41:34,929 INFO Request is completed\n",
      "2022-01-28 22:41:34,949 INFO Downloading https://download-0005.copernicus-climate.eu/cache-compute-0005/cache/data1/adaptor.mars.internal-1643431283.7319853-12926-17-3d421212-9217-4a7e-b15e-528eac14368a.nc to ERA5_sea_ice_cover_200208.nc (2.4M)\n",
      "2022-01-28 22:41:38,247 INFO Download rate 757.1K/s                             \n",
      "2022-01-28 22:41:38,542 INFO Welcome to the CDS\n",
      "2022-01-28 22:41:38,543 INFO Sending request to https://cds.climate.copernicus.eu/api/v2/resources/reanalysis-era5-single-levels\n"
     ]
    },
    {
     "name": "stdout",
     "output_type": "stream",
     "text": [
      "sea_surface_temperature\n",
      "Downloading file ERA5_sea_surface_temperature_200208.nc\n"
     ]
    },
    {
     "name": "stderr",
     "output_type": "stream",
     "text": [
      "2022-01-28 22:41:38,699 INFO Request is queued\n",
      "2022-01-28 22:47:59,507 INFO Request is running\n",
      "2022-01-28 22:50:00,137 INFO Request is completed\n",
      "2022-01-28 22:50:00,144 INFO Downloading https://download-0006.copernicus-climate.eu/cache-compute-0006/cache/data9/adaptor.mars.internal-1643431691.0272837-4020-5-58d498d4-3435-4485-ac65-00b4757bd2e0.nc to ERA5_sea_surface_temperature_200208.nc (2.4M)\n",
      "2022-01-28 22:50:02,467 INFO Download rate 1M/s                                 \n",
      "2022-01-28 22:50:02,749 INFO Welcome to the CDS\n",
      "2022-01-28 22:50:02,750 INFO Sending request to https://cds.climate.copernicus.eu/api/v2/resources/reanalysis-era5-single-levels\n"
     ]
    },
    {
     "name": "stdout",
     "output_type": "stream",
     "text": [
      "9\n",
      "10m_u_component_of_wind\n",
      "Downloading file ERA5_10m_u_component_of_wind_200209.nc\n"
     ]
    },
    {
     "name": "stderr",
     "output_type": "stream",
     "text": [
      "2022-01-28 22:50:02,897 INFO Request is queued\n",
      "2022-01-28 22:51:57,755 INFO Request is running\n",
      "2022-01-28 22:52:55,595 INFO Request is completed\n",
      "2022-01-28 22:52:55,600 INFO Downloading https://download-0007.copernicus-climate.eu/cache-compute-0007/cache/data1/adaptor.mars.internal-1643431918.7410128-27204-10-4c46f9ec-9622-473d-aab2-eaf444759200.nc to ERA5_10m_u_component_of_wind_200209.nc (2.4M)\n",
      "2022-01-28 22:53:00,789 INFO Download rate 465.7K/s                             \n",
      "2022-01-28 22:53:01,083 INFO Welcome to the CDS\n",
      "2022-01-28 22:53:01,084 INFO Sending request to https://cds.climate.copernicus.eu/api/v2/resources/reanalysis-era5-single-levels\n"
     ]
    },
    {
     "name": "stdout",
     "output_type": "stream",
     "text": [
      "10m_v_component_of_wind\n",
      "Downloading file ERA5_10m_v_component_of_wind_200209.nc\n"
     ]
    },
    {
     "name": "stderr",
     "output_type": "stream",
     "text": [
      "2022-01-28 22:53:01,230 INFO Request is queued\n",
      "2022-01-28 22:54:56,026 INFO Request is completed\n",
      "2022-01-28 22:54:56,036 INFO Downloading https://download-0005.copernicus-climate.eu/cache-compute-0005/cache/data9/adaptor.mars.internal-1643432094.994911-7557-6-e9469ff9-ddaf-47fb-ab93-687c17a71173.nc to ERA5_10m_v_component_of_wind_200209.nc (2.4M)\n",
      "2022-01-28 22:54:58,520 INFO Download rate 972.9K/s                             \n",
      "2022-01-28 22:54:58,793 INFO Welcome to the CDS\n",
      "2022-01-28 22:54:58,794 INFO Sending request to https://cds.climate.copernicus.eu/api/v2/resources/reanalysis-era5-single-levels\n"
     ]
    },
    {
     "name": "stdout",
     "output_type": "stream",
     "text": [
      "2m_temperature\n",
      "Downloading file ERA5_2m_temperature_200209.nc\n"
     ]
    },
    {
     "name": "stderr",
     "output_type": "stream",
     "text": [
      "2022-01-28 22:54:58,934 INFO Request is queued\n",
      "2022-01-28 23:01:19,389 INFO Request is completed\n",
      "2022-01-28 23:01:19,406 INFO Downloading https://download-0013.copernicus-climate.eu/cache-compute-0013/cache/data1/adaptor.mars.internal-1643432471.809373-12152-4-e827ab6e-822e-4b6e-9ca2-21a839d4ec1c.nc to ERA5_2m_temperature_200209.nc (2.4M)\n",
      "2022-01-28 23:01:22,673 INFO Download rate 739.7K/s                             \n",
      "2022-01-28 23:01:22,956 INFO Welcome to the CDS\n",
      "2022-01-28 23:01:22,956 INFO Sending request to https://cds.climate.copernicus.eu/api/v2/resources/reanalysis-era5-single-levels\n"
     ]
    },
    {
     "name": "stdout",
     "output_type": "stream",
     "text": [
      "surface_sensible_heat_flux\n",
      "Downloading file ERA5_surface_sensible_heat_flux_200209.nc\n"
     ]
    },
    {
     "name": "stderr",
     "output_type": "stream",
     "text": [
      "2022-01-28 23:01:23,101 INFO Request is queued\n",
      "2022-01-28 23:07:43,579 INFO Request is running\n",
      "2022-01-28 23:09:44,264 INFO Request is completed\n",
      "2022-01-28 23:09:44,279 INFO Downloading https://download-0011.copernicus-climate.eu/cache-compute-0011/cache/data5/adaptor.mars.internal-1643432884.1495428-20814-6-0aa2d953-dc9f-47b9-8dfb-c0a3b598106a.nc to ERA5_surface_sensible_heat_flux_200209.nc (2.4M)\n",
      "2022-01-28 23:09:47,669 INFO Download rate 712.9K/s                             \n",
      "2022-01-28 23:09:47,967 INFO Welcome to the CDS\n",
      "2022-01-28 23:09:47,968 INFO Sending request to https://cds.climate.copernicus.eu/api/v2/resources/reanalysis-era5-single-levels\n"
     ]
    },
    {
     "name": "stdout",
     "output_type": "stream",
     "text": [
      "sea_ice_cover\n",
      "Downloading file ERA5_sea_ice_cover_200209.nc\n"
     ]
    },
    {
     "name": "stderr",
     "output_type": "stream",
     "text": [
      "2022-01-28 23:09:48,130 INFO Request is queued\n",
      "2022-01-28 23:12:41,166 INFO Request is completed\n",
      "2022-01-28 23:12:41,196 INFO Downloading https://download-0003.copernicus-climate.eu/cache-compute-0003/cache/data4/adaptor.mars.internal-1643433146.938255-28535-18-bdec06f3-43c9-4043-b18e-f96eadadc648.nc to ERA5_sea_ice_cover_200209.nc (2.4M)\n",
      "2022-01-28 23:12:45,076 INFO Download rate 623.8K/s                             \n",
      "2022-01-28 23:12:45,371 INFO Welcome to the CDS\n",
      "2022-01-28 23:12:45,372 INFO Sending request to https://cds.climate.copernicus.eu/api/v2/resources/reanalysis-era5-single-levels\n"
     ]
    },
    {
     "name": "stdout",
     "output_type": "stream",
     "text": [
      "sea_surface_temperature\n",
      "Downloading file ERA5_sea_surface_temperature_200209.nc\n"
     ]
    },
    {
     "name": "stderr",
     "output_type": "stream",
     "text": [
      "2022-01-28 23:12:45,524 INFO Request is queued\n",
      "2022-01-28 23:19:07,391 INFO Request is completed\n",
      "2022-01-28 23:19:07,415 INFO Downloading https://download-0005.copernicus-climate.eu/cache-compute-0005/cache/data6/adaptor.mars.internal-1643433538.3215194-18374-10-a2b7c19b-4150-4aa4-83e4-84327cf19041.nc to ERA5_sea_surface_temperature_200209.nc (2.4M)\n",
      "2022-01-28 23:19:09,935 INFO Download rate 959K/s                               \n",
      "2022-01-28 23:19:10,219 INFO Welcome to the CDS\n",
      "2022-01-28 23:19:10,220 INFO Sending request to https://cds.climate.copernicus.eu/api/v2/resources/reanalysis-era5-single-levels\n"
     ]
    },
    {
     "name": "stdout",
     "output_type": "stream",
     "text": [
      "10\n",
      "10m_u_component_of_wind\n",
      "Downloading file ERA5_10m_u_component_of_wind_200210.nc\n"
     ]
    },
    {
     "name": "stderr",
     "output_type": "stream",
     "text": [
      "2022-01-28 23:19:10,367 INFO Request is queued\n",
      "2022-01-28 23:20:26,589 INFO Request is running\n",
      "2022-01-28 23:21:05,200 INFO Request is completed\n",
      "2022-01-28 23:21:05,206 INFO Downloading https://download-0010.copernicus-climate.eu/cache-compute-0010/cache/data3/adaptor.mars.internal-1643433642.7435277-31538-8-ee73c5c7-dc49-44fd-bd9c-c0d889d26343.nc to ERA5_10m_u_component_of_wind_200210.nc (2.4M)\n",
      "2022-01-28 23:21:08,237 INFO Download rate 823.7K/s                             \n",
      "2022-01-28 23:21:08,529 INFO Welcome to the CDS\n",
      "2022-01-28 23:21:08,530 INFO Sending request to https://cds.climate.copernicus.eu/api/v2/resources/reanalysis-era5-single-levels\n"
     ]
    },
    {
     "name": "stdout",
     "output_type": "stream",
     "text": [
      "10m_v_component_of_wind\n",
      "Downloading file ERA5_10m_v_component_of_wind_200210.nc\n"
     ]
    },
    {
     "name": "stderr",
     "output_type": "stream",
     "text": [
      "2022-01-28 23:21:08,728 INFO Request is queued\n",
      "2022-01-28 23:22:26,464 INFO Request is running\n",
      "2022-01-28 23:23:05,177 INFO Request is completed\n",
      "2022-01-28 23:23:05,223 INFO Downloading https://download-0010.copernicus-climate.eu/cache-compute-0010/cache/data9/adaptor.mars.internal-1643433755.422311-2754-11-b4d1a376-39cd-45c7-b0cd-f027560f5d29.nc to ERA5_10m_v_component_of_wind_200210.nc (2.4M)\n",
      "2022-01-28 23:23:08,029 INFO Download rate 889.5K/s                             \n",
      "2022-01-28 23:23:08,316 INFO Welcome to the CDS\n",
      "2022-01-28 23:23:08,319 INFO Sending request to https://cds.climate.copernicus.eu/api/v2/resources/reanalysis-era5-single-levels\n"
     ]
    },
    {
     "name": "stdout",
     "output_type": "stream",
     "text": [
      "2m_temperature\n",
      "Downloading file ERA5_2m_temperature_200210.nc\n"
     ]
    },
    {
     "name": "stderr",
     "output_type": "stream",
     "text": [
      "2022-01-28 23:23:08,476 INFO Request is queued\n",
      "2022-01-28 23:24:24,885 INFO Request is running\n",
      "2022-01-28 23:25:03,649 INFO Request is completed\n",
      "2022-01-28 23:25:03,666 INFO Downloading https://download-0004.copernicus-climate.eu/cache-compute-0004/cache/data8/adaptor.mars.internal-1643433877.4641724-10985-14-11965217-70b9-4e5c-abe0-3ed475ca4c8a.nc to ERA5_2m_temperature_200210.nc (2.4M)\n",
      "2022-01-28 23:25:08,555 INFO Download rate 510.8K/s                             \n",
      "2022-01-28 23:25:08,860 INFO Welcome to the CDS\n",
      "2022-01-28 23:25:08,861 INFO Sending request to https://cds.climate.copernicus.eu/api/v2/resources/reanalysis-era5-single-levels\n"
     ]
    },
    {
     "name": "stdout",
     "output_type": "stream",
     "text": [
      "surface_sensible_heat_flux\n",
      "Downloading file ERA5_surface_sensible_heat_flux_200210.nc\n"
     ]
    },
    {
     "name": "stderr",
     "output_type": "stream",
     "text": [
      "2022-01-28 23:25:09,004 INFO Request is queued\n",
      "2022-01-28 23:26:26,576 INFO Request is running\n",
      "2022-01-28 23:27:05,404 INFO Request is completed\n",
      "2022-01-28 23:27:05,482 INFO Downloading https://download-0011.copernicus-climate.eu/cache-compute-0011/cache/data9/adaptor.mars.internal-1643433988.9142437-28210-18-adf722ec-bfa1-4e2b-ab95-b45772924021.nc to ERA5_surface_sensible_heat_flux_200210.nc (2.4M)\n",
      "2022-01-28 23:27:09,673 INFO Download rate 596.5K/s                             \n",
      "2022-01-28 23:27:10,083 INFO Welcome to the CDS\n",
      "2022-01-28 23:27:10,084 INFO Sending request to https://cds.climate.copernicus.eu/api/v2/resources/reanalysis-era5-single-levels\n"
     ]
    },
    {
     "name": "stdout",
     "output_type": "stream",
     "text": [
      "sea_ice_cover\n",
      "Downloading file ERA5_sea_ice_cover_200210.nc\n"
     ]
    },
    {
     "name": "stderr",
     "output_type": "stream",
     "text": [
      "2022-01-28 23:27:10,233 INFO Request is queued\n",
      "2022-01-28 23:28:02,289 INFO Request is running\n",
      "2022-01-28 23:28:28,148 INFO Request is completed\n",
      "2022-01-28 23:28:28,186 INFO Downloading https://download-0009.copernicus-climate.eu/cache-compute-0009/cache/data8/adaptor.mars.internal-1643434086.9755275-25422-16-43410efc-3921-4328-b88e-04dd0f756669.nc to ERA5_sea_ice_cover_200210.nc (2.4M)\n",
      "2022-01-28 23:28:33,165 INFO Download rate 501.5K/s                             \n",
      "2022-01-28 23:28:33,476 INFO Welcome to the CDS\n",
      "2022-01-28 23:28:33,477 INFO Sending request to https://cds.climate.copernicus.eu/api/v2/resources/reanalysis-era5-single-levels\n"
     ]
    },
    {
     "name": "stdout",
     "output_type": "stream",
     "text": [
      "sea_surface_temperature\n",
      "Downloading file ERA5_sea_surface_temperature_200210.nc\n"
     ]
    },
    {
     "name": "stderr",
     "output_type": "stream",
     "text": [
      "2022-01-28 23:28:33,633 INFO Request is queued\n",
      "2022-01-28 23:36:55,194 INFO Request is completed\n",
      "2022-01-28 23:36:55,368 INFO Downloading https://download-0011.copernicus-climate.eu/cache-compute-0011/cache/data0/adaptor.mars.internal-1643434528.3857567-15869-19-15f27b40-b087-4f93-b86d-e63bb2e214fc.nc to ERA5_sea_surface_temperature_200210.nc (2.4M)\n",
      "2022-01-28 23:36:59,491 INFO Download rate 608K/s                               \n",
      "2022-01-28 23:36:59,999 INFO Welcome to the CDS\n",
      "2022-01-28 23:37:00,002 INFO Sending request to https://cds.climate.copernicus.eu/api/v2/resources/reanalysis-era5-single-levels\n"
     ]
    },
    {
     "name": "stdout",
     "output_type": "stream",
     "text": [
      "11\n",
      "10m_u_component_of_wind\n",
      "Downloading file ERA5_10m_u_component_of_wind_200211.nc\n"
     ]
    },
    {
     "name": "stderr",
     "output_type": "stream",
     "text": [
      "2022-01-28 23:37:00,242 INFO Request is queued\n",
      "2022-01-28 23:38:55,592 INFO Request is running\n",
      "2022-01-28 23:39:53,549 INFO Request is completed\n",
      "2022-01-28 23:39:53,572 INFO Downloading https://download-0011.copernicus-climate.eu/cache-compute-0011/cache/data5/adaptor.mars.internal-1643434746.793921-10539-6-d631d871-2daf-4473-bc5d-e86cd54afb66.nc to ERA5_10m_u_component_of_wind_200211.nc (2.4M)\n",
      "2022-01-28 23:39:58,305 INFO Download rate 510.4K/s                             \n",
      "2022-01-28 23:39:58,612 INFO Welcome to the CDS\n",
      "2022-01-28 23:39:58,613 INFO Sending request to https://cds.climate.copernicus.eu/api/v2/resources/reanalysis-era5-single-levels\n"
     ]
    },
    {
     "name": "stdout",
     "output_type": "stream",
     "text": [
      "10m_v_component_of_wind\n",
      "Downloading file ERA5_10m_v_component_of_wind_200211.nc\n"
     ]
    },
    {
     "name": "stderr",
     "output_type": "stream",
     "text": [
      "2022-01-28 23:39:58,774 INFO Request is queued\n",
      "2022-01-28 23:46:19,410 INFO Request is completed\n",
      "2022-01-28 23:46:19,439 INFO Downloading https://download-0004.copernicus-climate.eu/cache-compute-0004/cache/data5/adaptor.mars.internal-1643435122.863663-17150-12-a60399b0-2cfe-4915-8174-8cc146e96f0d.nc to ERA5_10m_v_component_of_wind_200211.nc (2.4M)\n",
      "2022-01-28 23:46:22,832 INFO Download rate 713.1K/s                             \n",
      "2022-01-28 23:46:23,190 INFO Welcome to the CDS\n",
      "2022-01-28 23:46:23,191 INFO Sending request to https://cds.climate.copernicus.eu/api/v2/resources/reanalysis-era5-single-levels\n"
     ]
    },
    {
     "name": "stdout",
     "output_type": "stream",
     "text": [
      "2m_temperature\n",
      "Downloading file ERA5_2m_temperature_200211.nc\n"
     ]
    },
    {
     "name": "stderr",
     "output_type": "stream",
     "text": [
      "2022-01-28 23:46:23,355 INFO Request is queued\n",
      "2022-01-28 23:46:32,103 INFO Request is running\n",
      "2022-01-28 23:46:45,075 INFO Request is completed\n",
      "2022-01-28 23:46:45,083 INFO Downloading https://download-0003.copernicus-climate.eu/cache-compute-0003/cache/data9/adaptor.mars.internal-1643435201.5044343-11290-8-929598a3-0233-4120-8121-fe46b3e8bab6.nc to ERA5_2m_temperature_200211.nc (2.4M)\n",
      "2022-01-28 23:46:48,546 INFO Download rate 697.4K/s                             \n",
      "2022-01-28 23:46:48,842 INFO Welcome to the CDS\n",
      "2022-01-28 23:46:48,843 INFO Sending request to https://cds.climate.copernicus.eu/api/v2/resources/reanalysis-era5-single-levels\n"
     ]
    },
    {
     "name": "stdout",
     "output_type": "stream",
     "text": [
      "surface_sensible_heat_flux\n",
      "Downloading file ERA5_surface_sensible_heat_flux_200211.nc\n"
     ]
    },
    {
     "name": "stderr",
     "output_type": "stream",
     "text": [
      "2022-01-28 23:46:48,995 INFO Request is queued\n",
      "2022-01-28 23:47:10,842 INFO Request is running\n",
      "2022-01-28 23:47:39,677 INFO Request is completed\n",
      "2022-01-28 23:47:39,708 INFO Downloading https://download-0011.copernicus-climate.eu/cache-compute-0011/cache/data8/adaptor.mars.internal-1643435246.2164023-14317-3-c3e6f74f-58f7-4fdd-98c2-15a34c42ca6c.nc to ERA5_surface_sensible_heat_flux_200211.nc (2.4M)\n",
      "2022-01-28 23:47:43,953 INFO Download rate 570K/s                               \n",
      "2022-01-28 23:47:44,259 INFO Welcome to the CDS\n",
      "2022-01-28 23:47:44,260 INFO Sending request to https://cds.climate.copernicus.eu/api/v2/resources/reanalysis-era5-single-levels\n"
     ]
    },
    {
     "name": "stdout",
     "output_type": "stream",
     "text": [
      "sea_ice_cover\n",
      "Downloading file ERA5_sea_ice_cover_200211.nc\n"
     ]
    },
    {
     "name": "stderr",
     "output_type": "stream",
     "text": [
      "2022-01-28 23:47:44,489 INFO Request is queued\n",
      "2022-01-28 23:54:05,373 INFO Request is completed\n",
      "2022-01-28 23:54:05,415 INFO Downloading https://download-0004.copernicus-climate.eu/cache-compute-0004/cache/data5/adaptor.mars.internal-1643435603.4675806-26961-14-dac2cb29-04da-4aa3-bd6d-abd33667ea5f.nc to ERA5_sea_ice_cover_200211.nc (2.4M)\n",
      "2022-01-28 23:54:07,867 INFO Download rate 985.7K/s                             \n",
      "2022-01-28 23:54:08,153 INFO Welcome to the CDS\n",
      "2022-01-28 23:54:08,155 INFO Sending request to https://cds.climate.copernicus.eu/api/v2/resources/reanalysis-era5-single-levels\n"
     ]
    },
    {
     "name": "stdout",
     "output_type": "stream",
     "text": [
      "sea_surface_temperature\n",
      "Downloading file ERA5_sea_surface_temperature_200211.nc\n"
     ]
    },
    {
     "name": "stderr",
     "output_type": "stream",
     "text": [
      "2022-01-28 23:54:08,303 INFO Request is queued\n",
      "2022-01-28 23:54:22,240 INFO Request is running\n",
      "2022-01-28 23:54:41,598 INFO Request is completed\n",
      "2022-01-28 23:54:41,614 INFO Downloading https://download-0003.copernicus-climate.eu/cache-compute-0003/cache/data1/adaptor.mars.internal-1643435678.523163-3909-6-ad8e1751-c7a6-40ec-901f-6573a1ee7945.nc to ERA5_sea_surface_temperature_200211.nc (2.4M)\n",
      "2022-01-28 23:54:45,500 INFO Download rate 622.2K/s                             \n",
      "2022-01-28 23:54:45,778 INFO Welcome to the CDS\n",
      "2022-01-28 23:54:45,779 INFO Sending request to https://cds.climate.copernicus.eu/api/v2/resources/reanalysis-era5-single-levels\n"
     ]
    },
    {
     "name": "stdout",
     "output_type": "stream",
     "text": [
      "12\n",
      "10m_u_component_of_wind\n",
      "Downloading file ERA5_10m_u_component_of_wind_200212.nc\n"
     ]
    },
    {
     "name": "stderr",
     "output_type": "stream",
     "text": [
      "2022-01-28 23:54:45,944 INFO Request is queued\n",
      "2022-01-28 23:55:19,265 INFO Request is running\n",
      "2022-01-28 23:55:36,550 INFO Request is completed\n",
      "2022-01-28 23:55:36,558 INFO Downloading https://download-0015.copernicus-climate.eu/cache-compute-0015/cache/data3/adaptor.mars.internal-1643435734.2106147-19642-4-b8149b83-182d-41d1-b8d2-196e2e77febe.nc to ERA5_10m_u_component_of_wind_200212.nc (2.4M)\n",
      "2022-01-28 23:55:40,115 INFO Download rate 701.8K/s                             \n",
      "2022-01-28 23:55:40,399 INFO Welcome to the CDS\n",
      "2022-01-28 23:55:40,400 INFO Sending request to https://cds.climate.copernicus.eu/api/v2/resources/reanalysis-era5-single-levels\n"
     ]
    },
    {
     "name": "stdout",
     "output_type": "stream",
     "text": [
      "10m_v_component_of_wind\n",
      "Downloading file ERA5_10m_v_component_of_wind_200212.nc\n"
     ]
    },
    {
     "name": "stderr",
     "output_type": "stream",
     "text": [
      "2022-01-28 23:55:40,552 INFO Request is queued\n",
      "2022-01-29 00:02:01,119 INFO Request is running\n",
      "2022-01-29 00:04:01,766 INFO Request is completed\n",
      "2022-01-29 00:04:01,772 INFO Downloading https://download-0015.copernicus-climate.eu/cache-compute-0015/cache/data4/adaptor.mars.internal-1643436125.9471517-3408-10-ca645064-b7a9-4468-85a7-f95753bae38b.nc to ERA5_10m_v_component_of_wind_200212.nc (2.4M)\n",
      "2022-01-29 00:04:05,438 INFO Download rate 681.1K/s                             \n",
      "2022-01-29 00:04:05,724 INFO Welcome to the CDS\n",
      "2022-01-29 00:04:05,725 INFO Sending request to https://cds.climate.copernicus.eu/api/v2/resources/reanalysis-era5-single-levels\n"
     ]
    },
    {
     "name": "stdout",
     "output_type": "stream",
     "text": [
      "2m_temperature\n",
      "Downloading file ERA5_2m_temperature_200212.nc\n"
     ]
    },
    {
     "name": "stderr",
     "output_type": "stream",
     "text": [
      "2022-01-29 00:04:05,874 INFO Request is queued\n",
      "2022-01-29 00:04:56,351 INFO Request is running\n",
      "2022-01-29 00:05:22,134 INFO Request is completed\n",
      "2022-01-29 00:05:22,138 INFO Downloading https://download-0001.copernicus-climate.eu/cache-compute-0001/cache/data1/adaptor.mars.internal-1643436303.8836205-26012-5-06b86b59-d263-4126-812f-756df65fcfe9.nc to ERA5_2m_temperature_200212.nc (2.4M)\n",
      "2022-01-29 00:05:26,546 INFO Download rate 566.2K/s                             \n",
      "2022-01-29 00:05:26,821 INFO Welcome to the CDS\n",
      "2022-01-29 00:05:26,822 INFO Sending request to https://cds.climate.copernicus.eu/api/v2/resources/reanalysis-era5-single-levels\n"
     ]
    },
    {
     "name": "stdout",
     "output_type": "stream",
     "text": [
      "surface_sensible_heat_flux\n",
      "Downloading file ERA5_surface_sensible_heat_flux_200212.nc\n"
     ]
    },
    {
     "name": "stderr",
     "output_type": "stream",
     "text": [
      "2022-01-29 00:05:26,989 INFO Request is queued\n",
      "2022-01-29 00:11:50,784 INFO Request is completed\n",
      "2022-01-29 00:11:50,810 INFO Downloading https://download-0005.copernicus-climate.eu/cache-compute-0005/cache/data3/adaptor.mars.internal-1643436675.6311722-6619-15-8717f319-ae68-4315-9207-e9c837d1de2d.nc to ERA5_surface_sensible_heat_flux_200212.nc (2.4M)\n",
      "                                                                                \r"
     ]
    },
    {
     "name": "stdout",
     "output_type": "stream",
     "text": [
      "(\"Connection broken: ConnectionResetError(54, 'Connection reset by peer')\", ConnectionResetError(54, 'Connection reset by peer'))\n",
      "HTTPSConnectionPool(host='cds.climate.copernicus.eu', port=443): Read timed out. (read timeout=None)\n"
     ]
    },
    {
     "name": "stderr",
     "output_type": "stream",
     "text": [
      "2022-01-29 00:43:50,061 INFO Welcome to the CDS\n",
      "2022-01-29 00:43:50,064 INFO Sending request to https://cds.climate.copernicus.eu/api/v2/resources/reanalysis-era5-single-levels\n",
      "2022-01-29 00:43:50,298 INFO Request is completed\n",
      "2022-01-29 00:43:50,306 INFO Downloading https://download-0005.copernicus-climate.eu/cache-compute-0005/cache/data3/adaptor.mars.internal-1643436675.6311722-6619-15-8717f319-ae68-4315-9207-e9c837d1de2d.nc to ERA5_surface_sensible_heat_flux_200212.nc (2.4M)\n",
      "                                                                                \r"
     ]
    },
    {
     "name": "stdout",
     "output_type": "stream",
     "text": [
      "(\"Connection broken: ConnectionResetError(54, 'Connection reset by peer')\", ConnectionResetError(54, 'Connection reset by peer'))\n",
      "HTTPSConnectionPool(host='cds.climate.copernicus.eu', port=443): Read timed out. (read timeout=None)\n"
     ]
    },
    {
     "name": "stderr",
     "output_type": "stream",
     "text": [
      "2022-01-29 01:17:02,153 INFO Welcome to the CDS\n",
      "2022-01-29 01:17:02,154 INFO Sending request to https://cds.climate.copernicus.eu/api/v2/resources/reanalysis-era5-single-levels\n",
      "2022-01-29 01:17:02,489 INFO Request is completed\n",
      "2022-01-29 01:17:02,493 INFO Downloading https://download-0005.copernicus-climate.eu/cache-compute-0005/cache/data3/adaptor.mars.internal-1643436675.6311722-6619-15-8717f319-ae68-4315-9207-e9c837d1de2d.nc to ERA5_surface_sensible_heat_flux_200212.nc (2.4M)\n",
      "2022-01-29 04:04:37,324 ERROR Download interupted: HTTPSConnectionPool(host='download-0005.copernicus-climate.eu', port=443): Read timed out.\n",
      "2022-01-29 04:04:37,327 ERROR Download incomplete, downloaded 1371136 byte(s) out of 2555132\n",
      "2022-01-29 04:04:37,330 WARNING Sleeping 10 seconds\n",
      "2022-01-29 04:22:12,752 WARNING Resuming download at byte 1371136\n"
     ]
    },
    {
     "name": "stdout",
     "output_type": "stream",
     "text": [
      "HTTPSConnectionPool(host='cds.climate.copernicus.eu', port=443): Read timed out. (read timeout=None)\n"
     ]
    },
    {
     "name": "stderr",
     "output_type": "stream",
     "text": [
      "2022-01-29 04:54:58,690 INFO Welcome to the CDS                                 \n",
      "2022-01-29 04:54:58,691 INFO Sending request to https://cds.climate.copernicus.eu/api/v2/resources/reanalysis-era5-single-levels\n"
     ]
    },
    {
     "name": "stdout",
     "output_type": "stream",
     "text": [
      "(\"Connection broken: ConnectionResetError(54, 'Connection reset by peer')\", ConnectionResetError(54, 'Connection reset by peer'))\n"
     ]
    },
    {
     "name": "stderr",
     "output_type": "stream",
     "text": [
      "2022-01-29 04:54:58,895 INFO Request is completed\n",
      "2022-01-29 04:54:58,898 INFO Downloading https://download-0005.copernicus-climate.eu/cache-compute-0005/cache/data3/adaptor.mars.internal-1643436675.6311722-6619-15-8717f319-ae68-4315-9207-e9c837d1de2d.nc to ERA5_surface_sensible_heat_flux_200212.nc (2.4M)\n",
      "2022-01-29 04:55:01,862 INFO Download rate 842.1K/s                             \n",
      "2022-01-29 04:55:02,366 INFO Welcome to the CDS\n",
      "2022-01-29 04:55:02,367 INFO Sending request to https://cds.climate.copernicus.eu/api/v2/resources/reanalysis-era5-single-levels\n"
     ]
    },
    {
     "name": "stdout",
     "output_type": "stream",
     "text": [
      "sea_ice_cover\n",
      "Downloading file ERA5_sea_ice_cover_200212.nc\n"
     ]
    },
    {
     "name": "stderr",
     "output_type": "stream",
     "text": [
      "2022-01-29 04:55:02,526 INFO Request is queued\n",
      "2022-01-29 05:28:45,872 WARNING Recovering from connection error [HTTPSConnectionPool(host='cds.climate.copernicus.eu', port=443): Read timed out. (read timeout=60)], attemps 0 of 5\n",
      "2022-01-29 05:28:45,881 WARNING Retrying in 120 seconds\n",
      "2022-01-29 09:38:14,771 INFO Retrying now...\n",
      "2022-01-29 10:11:12,833 WARNING Recovering from connection error [HTTPSConnectionPool(host='cds.climate.copernicus.eu', port=443): Read timed out. (read timeout=60)], attemps 1 of 5\n",
      "2022-01-29 10:11:12,842 WARNING Retrying in 120 seconds\n"
     ]
    }
   ],
   "source": [
    "# Set parameters\n",
    "output_dir = '/Users/Zach/OneDrive - University of Waterloo/Documents/MASc/Courses/SYDE770/project/polynya-prediction/era5'\n",
    "\n",
    "start_year, end_year = 2002, 2016\n",
    "\n",
    "bbox = gpd.read_file('aoi').total_bounds\n",
    "bbox = [bbox[i] for i in (3, 0, 1, 2)]  # Reorder\n",
    "\n",
    "features = [\n",
    "    '10m_u_component_of_wind',\n",
    "    '10m_v_component_of_wind',\n",
    "    '2m_temperature',\n",
    "    'surface_sensible_heat_flux',\n",
    "    'sea_ice_cover',\n",
    "    'sea_surface_temperature',\n",
    "]\n",
    "\n",
    "# Run download function\n",
    "download_era5(\n",
    "    output_dir=output_dir,\n",
    "    url='https://cds.climate.copernicus.eu/api/v2',\n",
    "    start_year=start_year, end_year=end_year,\n",
    "    features=features,\n",
    "    bbox=bbox,\n",
    ")\n"
   ]
  },
  {
   "cell_type": "code",
   "execution_count": 11,
   "id": "861220f4-d634-4a95-80f7-7e3f6ae5fd20",
   "metadata": {},
   "outputs": [
    {
     "name": "stdout",
     "output_type": "stream",
     "text": [
      "Help on method retrieve in module cdsapi.api:\n",
      "\n",
      "retrieve(name, request, target=None) method of cdsapi.api.Client instance\n",
      "\n"
     ]
    }
   ],
   "source": [
    "import cdsapi\n",
    "client = cdsapi.Client()\n",
    "help(client.retrieve)"
   ]
  },
  {
   "cell_type": "code",
   "execution_count": null,
   "id": "3a95073f-8370-4795-879d-aaab68f740a8",
   "metadata": {},
   "outputs": [],
   "source": [
    "# landmask\n",
    "# additive degree days (ADD) derived from the t2m variable"
   ]
  }
 ],
 "metadata": {
  "kernelspec": {
   "display_name": "Python 3 (ipykernel)",
   "language": "python",
   "name": "python3"
  },
  "language_info": {
   "codemirror_mode": {
    "name": "ipython",
    "version": 3
   },
   "file_extension": ".py",
   "mimetype": "text/x-python",
   "name": "python",
   "nbconvert_exporter": "python",
   "pygments_lexer": "ipython3",
   "version": "3.8.12"
  }
 },
 "nbformat": 4,
 "nbformat_minor": 5
}
